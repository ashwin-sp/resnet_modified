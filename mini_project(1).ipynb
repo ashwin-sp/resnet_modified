{
  "cells": [
    {
      "cell_type": "markdown",
      "id": "32b111b1-2eb8-47ab-a6e5-06a2da11793b",
      "metadata": {
        "id": "32b111b1-2eb8-47ab-a6e5-06a2da11793b"
      },
      "source": [
        "# Mini Project - Modified ResNet Architecture with CIFAR-10 images"
      ]
    },
    {
      "cell_type": "markdown",
      "id": "00d4fc4a-2d31-4d28-8d4d-d10c58954d33",
      "metadata": {
        "id": "00d4fc4a-2d31-4d28-8d4d-d10c58954d33"
      },
      "source": [
        "**Goal:** In this mini-project we are tasked with coming up \n",
        "with a modified residual network (ResNet)\n",
        "architecture with the **highest test accuracy** on the CIFAR-10 image classification dataset, under the\n",
        "constraint that our model has **no more than 5 million parameters**."
      ]
    },
    {
      "cell_type": "markdown",
      "id": "943cffb1-00cc-491b-bce8-3834f85234c5",
      "metadata": {
        "tags": [],
        "id": "943cffb1-00cc-491b-bce8-3834f85234c5"
      },
      "source": [
        "## Dataset loading and importing packages"
      ]
    },
    {
      "cell_type": "markdown",
      "id": "4bbcd6a0-7b50-408d-aabb-bc89ca2cf4b5",
      "metadata": {
        "id": "4bbcd6a0-7b50-408d-aabb-bc89ca2cf4b5"
      },
      "source": [
        "We would be using **CIFAR-10 image classification dataset** which has the classes: ‘airplane’, ‘automobile’, ‘bird’, ‘cat’, ‘deer’, ‘dog’, ‘frog’, ‘horse’, ‘ship’, ‘truck’. The images in CIFAR-10 are of size 3x32x32, i.e. 3-channel color images of 32x32 pixels in size. This dataset can be loaded using the **torchvision** package.\n",
        "\n"
      ]
    },
    {
      "cell_type": "code",
      "execution_count": 1,
      "id": "35e12e67-3869-489a-ac75-9f65715a7c5d",
      "metadata": {
        "id": "35e12e67-3869-489a-ac75-9f65715a7c5d"
      },
      "outputs": [],
      "source": [
        "# Installing Packages - Pytorch, Torchvision, Torchsummary - run only if these libraries are not present in your setup\n",
        "# %pip install torch==1.10.0+cu111 torchvision==0.11.1+cu111 -f https://download.pytorch.org/whl/torch_stable.html --upgrade\n",
        "# %pip install torchsummary "
      ]
    },
    {
      "cell_type": "code",
      "execution_count": 2,
      "id": "bec5b211-a691-4fac-8904-4846958bb1d7",
      "metadata": {
        "id": "bec5b211-a691-4fac-8904-4846958bb1d7"
      },
      "outputs": [],
      "source": [
        "# Importing packages\n",
        "import torch\n",
        "import numpy as np\n",
        "import torch.nn as nn\n",
        "import torch.optim as optim\n",
        "import torch.nn.functional as F\n",
        "import torch.backends.cudnn as cudnn\n",
        "\n",
        "import torchvision\n",
        "import torchvision.transforms as transforms\n",
        "from torch.utils.data.sampler import SubsetRandomSampler\n",
        "\n",
        "import random"
      ]
    },
    {
      "cell_type": "code",
      "source": [
        "# Ensure that you create a folder dlf22_mini_project in your drive account\n",
        "from google.colab import drive\n",
        "drive.mount('/content/drive')\n",
        "proj_root = '/content/drive/MyDrive/dlf22_mini_project'"
      ],
      "metadata": {
        "colab": {
          "base_uri": "https://localhost:8080/"
        },
        "id": "svD19eF3Tw1D",
        "outputId": "e9ef6ace-35ff-43d6-b815-45d3bd64005e"
      },
      "id": "svD19eF3Tw1D",
      "execution_count": 3,
      "outputs": [
        {
          "output_type": "stream",
          "name": "stdout",
          "text": [
            "Drive already mounted at /content/drive; to attempt to forcibly remount, call drive.mount(\"/content/drive\", force_remount=True).\n"
          ]
        }
      ]
    },
    {
      "cell_type": "markdown",
      "id": "746bd813-751a-4e14-8f9a-c5ee05539f46",
      "metadata": {
        "id": "746bd813-751a-4e14-8f9a-c5ee05539f46"
      },
      "source": [
        "**Training, Validation and Testing Dataloaders** - The training and validation dataloaders are split from the train directory using random seed shuffling of indices. The training dataloader then uses train transformations and batch size 128 which the validation dataloader uses the test transformations with batch size 100. The testing dataset comes from test directory, and dataloader uses test transformations and batch size 100."
      ]
    },
    {
      "cell_type": "code",
      "execution_count": 4,
      "id": "bbe89794-a7ed-46e0-9400-1abf8c69486e",
      "metadata": {
        "id": "bbe89794-a7ed-46e0-9400-1abf8c69486e",
        "colab": {
          "base_uri": "https://localhost:8080/"
        },
        "outputId": "db357162-1de9-4aa0-b406-acfd2078865d"
      },
      "outputs": [
        {
          "output_type": "stream",
          "name": "stdout",
          "text": [
            "Files already downloaded and verified\n",
            "Files already downloaded and verified\n",
            "Files already downloaded and verified\n"
          ]
        }
      ],
      "source": [
        "# Loading and Transforming dataset\n",
        "transform_train = transforms.Compose([\n",
        "    transforms.RandomCrop(32, padding=4),\n",
        "    transforms.RandomHorizontalFlip(),\n",
        "    transforms.ToTensor(),\n",
        "    transforms.Normalize((0.4914, 0.4822, 0.4465), (0.2023, 0.1994, 0.2010)),\n",
        "])\n",
        "\n",
        "transform_test = transforms.Compose([\n",
        "    transforms.ToTensor(),\n",
        "    transforms.Normalize((0.4914, 0.4822, 0.4465), (0.2023, 0.1994, 0.2010)),\n",
        "])\n",
        "\n",
        "# Train dataset\n",
        "trainset = torchvision.datasets.CIFAR10(\n",
        "    root='./data', train=True, download=True, transform=transform_train)\n",
        "\n",
        "# trainloader = torch.utils.data.DataLoader(trainset, batch_size=128, shuffle=True, num_workers=2)\n",
        "\n",
        "# Validation dataset\n",
        "valid_dataset = torchvision.datasets.CIFAR10(\n",
        "        root='./data', train=True,\n",
        "        download=True, transform=transform_test,\n",
        "    )\n",
        "\n",
        "# Train - validation split\n",
        "num_train = len(trainset)\n",
        "indices = list(range(num_train))\n",
        "# Size of validation dataset\n",
        "valid_size = 0.1\n",
        "split = int(np.floor(valid_size * num_train))\n",
        "# Shuffle the dataset indices\n",
        "random_seed = random.seed(30)\n",
        "np.random.seed(random_seed)\n",
        "np.random.shuffle(indices)\n",
        "train_idx, valid_idx = indices[split:], indices[:split]\n",
        "train_sampler = SubsetRandomSampler(train_idx)\n",
        "valid_sampler = SubsetRandomSampler(valid_idx)\n",
        "\n",
        "# Dataloaders for train and validation dataset\n",
        "train_iterator= torch.utils.data.DataLoader(\n",
        "        trainset, batch_size=128, sampler=train_sampler,\n",
        "        num_workers=2\n",
        "    )\n",
        "valid_iterator = torch.utils.data.DataLoader(\n",
        "        valid_dataset, batch_size=100, sampler=valid_sampler,\n",
        "        num_workers=2\n",
        "    )\n",
        "\n",
        "    \n",
        "# Test dataset and loader\n",
        "testset = torchvision.datasets.CIFAR10(\n",
        "    root='./data', train=False, download=True, transform=transform_test)\n",
        "test_iterator = torch.utils.data.DataLoader(\n",
        "    testset, batch_size=100, shuffle=False, num_workers=2)\n",
        "\n",
        "# Target classes\n",
        "classes = ('plane', 'car', 'bird', 'cat', 'deer',\n",
        "           'dog', 'frog', 'horse', 'ship', 'truck')"
      ]
    },
    {
      "cell_type": "code",
      "execution_count": 5,
      "id": "10af65d6-7d95-4ae1-acc2-4128f1f4981e",
      "metadata": {
        "id": "10af65d6-7d95-4ae1-acc2-4128f1f4981e",
        "colab": {
          "base_uri": "https://localhost:8080/"
        },
        "outputId": "0e8db227-c182-4aab-c1cd-04e66c3aeda8"
      },
      "outputs": [
        {
          "output_type": "stream",
          "name": "stdout",
          "text": [
            "cuda\n"
          ]
        }
      ],
      "source": [
        "# Define our device as the first visible cuda device if we have CUDA available\n",
        "device = 'cuda' if torch.cuda.is_available() else 'cpu'\n",
        "print(device)"
      ]
    },
    {
      "cell_type": "markdown",
      "id": "37eb8574-bf76-4900-a6c8-2623a44a7265",
      "metadata": {
        "tags": [],
        "id": "37eb8574-bf76-4900-a6c8-2623a44a7265"
      },
      "source": [
        "## Define a ResNet"
      ]
    },
    {
      "cell_type": "code",
      "execution_count": 6,
      "id": "f006fd05-cae1-44bd-b3ef-0af9f62658b2",
      "metadata": {
        "id": "f006fd05-cae1-44bd-b3ef-0af9f62658b2"
      },
      "outputs": [],
      "source": [
        "# Installing and Importing Libraries\n",
        "from torchsummary import summary"
      ]
    },
    {
      "cell_type": "code",
      "execution_count": 7,
      "id": "e756502f-55d0-4744-94fb-77b7e0a8d9f1",
      "metadata": {
        "id": "e756502f-55d0-4744-94fb-77b7e0a8d9f1"
      },
      "outputs": [],
      "source": [
        "class BasicBlock(nn.Module):\n",
        "    expansion = 1\n",
        "\n",
        "    def __init__(self, in_planes, planes, stride=1):\n",
        "        super(BasicBlock, self).__init__()\n",
        "        self.conv1 = nn.Conv2d(\n",
        "            in_planes, planes, kernel_size=3, stride=stride, padding=1, bias=False)\n",
        "        self.bn1 = nn.BatchNorm2d(planes)\n",
        "        self.conv2 = nn.Conv2d(planes, planes, kernel_size=3,\n",
        "                               stride=1, padding=1, bias=False)\n",
        "        self.bn2 = nn.BatchNorm2d(planes)\n",
        "\n",
        "        self.shortcut = nn.Sequential()\n",
        "        if stride != 1 or in_planes != self.expansion*planes:\n",
        "            self.shortcut = nn.Sequential(\n",
        "                nn.Conv2d(in_planes, self.expansion*planes,\n",
        "                          kernel_size=1, stride=stride, bias=False),\n",
        "                nn.BatchNorm2d(self.expansion*planes)\n",
        "            )\n",
        "\n",
        "    def forward(self, x):\n",
        "        out = F.relu(self.bn1(self.conv1(x)))\n",
        "        out = self.bn2(self.conv2(out))\n",
        "        out += self.shortcut(x)\n",
        "        out = F.relu(out)\n",
        "        return out"
      ]
    },
    {
      "cell_type": "markdown",
      "id": "51e48f6f-1d5a-4231-8b4b-fb6a8060ef19",
      "metadata": {
        "id": "51e48f6f-1d5a-4231-8b4b-fb6a8060ef19"
      },
      "source": [
        "Created a custom Resnet function to test all configurations"
      ]
    },
    {
      "cell_type": "code",
      "execution_count": 8,
      "id": "0f77f8ad-9221-4d01-ac24-60ecfd4c3fd5",
      "metadata": {
        "id": "0f77f8ad-9221-4d01-ac24-60ecfd4c3fd5"
      },
      "outputs": [],
      "source": [
        "class ResNet(nn.Module):\n",
        "    def __init__(self, block, num_blocks, num_channels = [64, 128, 256, 512], strides = [1, 2, 2, 2], linear_in= 512, in_planes = 64, avg_pool_size = 4, num_classes=10):\n",
        "        super(ResNet, self).__init__()\n",
        "        self.in_planes = in_planes\n",
        "\n",
        "        self.conv1 = nn.Conv2d(3, in_planes, kernel_size=3,\n",
        "                               stride=1, padding=1, bias=False)\n",
        "        self.bn1 = nn.BatchNorm2d(in_planes)\n",
        "        self.layers_list = []\n",
        "        for i in range(len(num_blocks)):\n",
        "            # Makes layers based on the num_blocks, num_channels, strides given\n",
        "            self.layers_list.append(self._make_layer(block, num_channels[i], num_blocks[i], stride=strides[i]))\n",
        "        self.layer1 = nn.Sequential(*self.layers_list)\n",
        "        self.linear = nn.Linear(linear_in*block.expansion, num_classes)\n",
        "        self.avg_pool_size = avg_pool_size\n",
        "\n",
        "    def _make_layer(self, block, planes, num_blocks, stride):\n",
        "        strides = [stride] + [1]*(num_blocks-1)\n",
        "        layers = []\n",
        "        for stride in strides:\n",
        "            layers.append(block(self.in_planes, planes, stride))\n",
        "            self.in_planes = planes * block.expansion\n",
        "        return nn.Sequential(*layers)\n",
        "\n",
        "    def forward(self, x):\n",
        "        out = F.relu(self.bn1(self.conv1(x)))\n",
        "        out = self.layer1(out)\n",
        "        out = F.avg_pool2d(out, self.avg_pool_size)\n",
        "        out = out.view(out.size(0), -1)\n",
        "        out = self.linear(out)\n",
        "        return out"
      ]
    },
    {
      "cell_type": "markdown",
      "id": "0364e9b1-3c8f-4fae-937a-1e7aa52990c3",
      "metadata": {
        "tags": [],
        "id": "0364e9b1-3c8f-4fae-937a-1e7aa52990c3"
      },
      "source": [
        "## Testing different configurations of Resnet-18"
      ]
    },
    {
      "cell_type": "markdown",
      "id": "86a7c1ac-8393-4dfe-b363-8d918c79327a",
      "metadata": {
        "tags": [],
        "id": "86a7c1ac-8393-4dfe-b363-8d918c79327a"
      },
      "source": [
        "### Setting up different configurations"
      ]
    },
    {
      "cell_type": "markdown",
      "id": "6aa801dc-04bb-4176-b9c2-c4278f43c1c3",
      "metadata": {
        "id": "6aa801dc-04bb-4176-b9c2-c4278f43c1c3"
      },
      "source": [
        "Experimented with:\n",
        "\n",
        "Configuration 1 - Reducing number of blocks\n",
        "\n",
        "Configuration 2 - Reducing number of layers and blocks with bottleneck\n",
        "\n",
        "Configuration 3 - Reducing number of layers, blocks and increasing number of channels\n",
        "\n",
        "Configuration 4 - Reducing number of layers, blocks, increasing number of channels and modifying average pool kernel size \n",
        "\n",
        "Configuration 5 - Same configuration as configuration 3 but changing number of in planes\n",
        "\n",
        "Configuration 6 - Same configuration as configuration 4 but changing number of in planes"
      ]
    },
    {
      "cell_type": "code",
      "source": [
        "models = []"
      ],
      "metadata": {
        "id": "ZaLgXtTLXGBB"
      },
      "id": "ZaLgXtTLXGBB",
      "execution_count": 9,
      "outputs": []
    },
    {
      "cell_type": "code",
      "execution_count": 10,
      "id": "f89daa84-b428-4b77-936c-5efe35ce99eb",
      "metadata": {
        "id": "f89daa84-b428-4b77-936c-5efe35ce99eb",
        "colab": {
          "base_uri": "https://localhost:8080/"
        },
        "outputId": "30c12f6f-aad6-49b1-acb8-45393d4d9067"
      },
      "outputs": [
        {
          "output_type": "stream",
          "name": "stdout",
          "text": [
            "----------------------------------------------------------------\n",
            "        Layer (type)               Output Shape         Param #\n",
            "================================================================\n",
            "            Conv2d-1           [-1, 64, 32, 32]           1,728\n",
            "       BatchNorm2d-2           [-1, 64, 32, 32]             128\n",
            "            Conv2d-3           [-1, 64, 32, 32]          36,864\n",
            "       BatchNorm2d-4           [-1, 64, 32, 32]             128\n",
            "            Conv2d-5           [-1, 64, 32, 32]          36,864\n",
            "       BatchNorm2d-6           [-1, 64, 32, 32]             128\n",
            "        BasicBlock-7           [-1, 64, 32, 32]               0\n",
            "            Conv2d-8           [-1, 64, 32, 32]          36,864\n",
            "       BatchNorm2d-9           [-1, 64, 32, 32]             128\n",
            "           Conv2d-10           [-1, 64, 32, 32]          36,864\n",
            "      BatchNorm2d-11           [-1, 64, 32, 32]             128\n",
            "       BasicBlock-12           [-1, 64, 32, 32]               0\n",
            "           Conv2d-13          [-1, 128, 16, 16]          73,728\n",
            "      BatchNorm2d-14          [-1, 128, 16, 16]             256\n",
            "           Conv2d-15          [-1, 128, 16, 16]         147,456\n",
            "      BatchNorm2d-16          [-1, 128, 16, 16]             256\n",
            "           Conv2d-17          [-1, 128, 16, 16]           8,192\n",
            "      BatchNorm2d-18          [-1, 128, 16, 16]             256\n",
            "       BasicBlock-19          [-1, 128, 16, 16]               0\n",
            "           Conv2d-20          [-1, 128, 16, 16]         147,456\n",
            "      BatchNorm2d-21          [-1, 128, 16, 16]             256\n",
            "           Conv2d-22          [-1, 128, 16, 16]         147,456\n",
            "      BatchNorm2d-23          [-1, 128, 16, 16]             256\n",
            "       BasicBlock-24          [-1, 128, 16, 16]               0\n",
            "           Conv2d-25            [-1, 256, 8, 8]         294,912\n",
            "      BatchNorm2d-26            [-1, 256, 8, 8]             512\n",
            "           Conv2d-27            [-1, 256, 8, 8]         589,824\n",
            "      BatchNorm2d-28            [-1, 256, 8, 8]             512\n",
            "           Conv2d-29            [-1, 256, 8, 8]          32,768\n",
            "      BatchNorm2d-30            [-1, 256, 8, 8]             512\n",
            "       BasicBlock-31            [-1, 256, 8, 8]               0\n",
            "           Conv2d-32            [-1, 256, 8, 8]         589,824\n",
            "      BatchNorm2d-33            [-1, 256, 8, 8]             512\n",
            "           Conv2d-34            [-1, 256, 8, 8]         589,824\n",
            "      BatchNorm2d-35            [-1, 256, 8, 8]             512\n",
            "       BasicBlock-36            [-1, 256, 8, 8]               0\n",
            "           Conv2d-37            [-1, 512, 4, 4]       1,179,648\n",
            "      BatchNorm2d-38            [-1, 512, 4, 4]           1,024\n",
            "           Conv2d-39            [-1, 512, 4, 4]       2,359,296\n",
            "      BatchNorm2d-40            [-1, 512, 4, 4]           1,024\n",
            "           Conv2d-41            [-1, 512, 4, 4]         131,072\n",
            "      BatchNorm2d-42            [-1, 512, 4, 4]           1,024\n",
            "       BasicBlock-43            [-1, 512, 4, 4]               0\n",
            "           Conv2d-44            [-1, 512, 4, 4]       2,359,296\n",
            "      BatchNorm2d-45            [-1, 512, 4, 4]           1,024\n",
            "           Conv2d-46            [-1, 512, 4, 4]       2,359,296\n",
            "      BatchNorm2d-47            [-1, 512, 4, 4]           1,024\n",
            "       BasicBlock-48            [-1, 512, 4, 4]               0\n",
            "           Linear-49                   [-1, 10]           5,130\n",
            "================================================================\n",
            "Total params: 11,173,962\n",
            "Trainable params: 11,173,962\n",
            "Non-trainable params: 0\n",
            "----------------------------------------------------------------\n",
            "Input size (MB): 0.01\n",
            "Forward/backward pass size (MB): 11.25\n",
            "Params size (MB): 42.63\n",
            "Estimated Total Size (MB): 53.89\n",
            "----------------------------------------------------------------\n"
          ]
        }
      ],
      "source": [
        "# Original Resnet-18\n",
        "net = ResNet(BasicBlock, [2, 2, 2, 2], [64, 128, 256, 512], [1, 2, 2, 2])\n",
        "net = net.to(device)\n",
        "summary(net, (3, 32, 32))"
      ]
    },
    {
      "cell_type": "code",
      "execution_count": 11,
      "id": "771da475-cac4-4358-a125-2a796765e3d1",
      "metadata": {
        "id": "771da475-cac4-4358-a125-2a796765e3d1",
        "colab": {
          "base_uri": "https://localhost:8080/"
        },
        "outputId": "aad73b6f-bbf7-46f3-d23e-3227a1bc79ed"
      },
      "outputs": [
        {
          "output_type": "stream",
          "name": "stdout",
          "text": [
            "----------------------------------------------------------------\n",
            "        Layer (type)               Output Shape         Param #\n",
            "================================================================\n",
            "            Conv2d-1           [-1, 64, 32, 32]           1,728\n",
            "       BatchNorm2d-2           [-1, 64, 32, 32]             128\n",
            "            Conv2d-3           [-1, 64, 32, 32]          36,864\n",
            "       BatchNorm2d-4           [-1, 64, 32, 32]             128\n",
            "            Conv2d-5           [-1, 64, 32, 32]          36,864\n",
            "       BatchNorm2d-6           [-1, 64, 32, 32]             128\n",
            "        BasicBlock-7           [-1, 64, 32, 32]               0\n",
            "            Conv2d-8           [-1, 64, 32, 32]          36,864\n",
            "       BatchNorm2d-9           [-1, 64, 32, 32]             128\n",
            "           Conv2d-10           [-1, 64, 32, 32]          36,864\n",
            "      BatchNorm2d-11           [-1, 64, 32, 32]             128\n",
            "       BasicBlock-12           [-1, 64, 32, 32]               0\n",
            "           Conv2d-13          [-1, 128, 16, 16]          73,728\n",
            "      BatchNorm2d-14          [-1, 128, 16, 16]             256\n",
            "           Conv2d-15          [-1, 128, 16, 16]         147,456\n",
            "      BatchNorm2d-16          [-1, 128, 16, 16]             256\n",
            "           Conv2d-17          [-1, 128, 16, 16]           8,192\n",
            "      BatchNorm2d-18          [-1, 128, 16, 16]             256\n",
            "       BasicBlock-19          [-1, 128, 16, 16]               0\n",
            "           Conv2d-20            [-1, 256, 8, 8]         294,912\n",
            "      BatchNorm2d-21            [-1, 256, 8, 8]             512\n",
            "           Conv2d-22            [-1, 256, 8, 8]         589,824\n",
            "      BatchNorm2d-23            [-1, 256, 8, 8]             512\n",
            "           Conv2d-24            [-1, 256, 8, 8]          32,768\n",
            "      BatchNorm2d-25            [-1, 256, 8, 8]             512\n",
            "       BasicBlock-26            [-1, 256, 8, 8]               0\n",
            "           Conv2d-27            [-1, 512, 4, 4]       1,179,648\n",
            "      BatchNorm2d-28            [-1, 512, 4, 4]           1,024\n",
            "           Conv2d-29            [-1, 512, 4, 4]       2,359,296\n",
            "      BatchNorm2d-30            [-1, 512, 4, 4]           1,024\n",
            "           Conv2d-31            [-1, 512, 4, 4]         131,072\n",
            "      BatchNorm2d-32            [-1, 512, 4, 4]           1,024\n",
            "       BasicBlock-33            [-1, 512, 4, 4]               0\n",
            "           Linear-34                   [-1, 10]           5,130\n",
            "================================================================\n",
            "Total params: 4,977,226\n",
            "Trainable params: 4,977,226\n",
            "Non-trainable params: 0\n",
            "----------------------------------------------------------------\n",
            "Input size (MB): 0.01\n",
            "Forward/backward pass size (MB): 9.06\n",
            "Params size (MB): 18.99\n",
            "Estimated Total Size (MB): 28.06\n",
            "----------------------------------------------------------------\n"
          ]
        }
      ],
      "source": [
        "# Reducing number of residual blocks\n",
        "net1 = ResNet(BasicBlock, [2, 1, 1, 1], [64, 128, 256, 512], [1, 2, 2, 2])\n",
        "models.append(net1)\n",
        "net1 = net1.to(device)\n",
        "summary(net1, (3, 32, 32))"
      ]
    },
    {
      "cell_type": "code",
      "execution_count": 12,
      "id": "79efae3f-fda2-4308-a390-d0236903c6cc",
      "metadata": {
        "id": "79efae3f-fda2-4308-a390-d0236903c6cc",
        "colab": {
          "base_uri": "https://localhost:8080/"
        },
        "outputId": "736f8029-bfc4-43f7-fe13-55df3fad11f0"
      },
      "outputs": [
        {
          "output_type": "stream",
          "name": "stdout",
          "text": [
            "----------------------------------------------------------------\n",
            "        Layer (type)               Output Shape         Param #\n",
            "================================================================\n",
            "            Conv2d-1           [-1, 64, 32, 32]           1,728\n",
            "       BatchNorm2d-2           [-1, 64, 32, 32]             128\n",
            "            Conv2d-3           [-1, 64, 32, 32]          36,864\n",
            "       BatchNorm2d-4           [-1, 64, 32, 32]             128\n",
            "            Conv2d-5           [-1, 64, 32, 32]          36,864\n",
            "       BatchNorm2d-6           [-1, 64, 32, 32]             128\n",
            "        BasicBlock-7           [-1, 64, 32, 32]               0\n",
            "            Conv2d-8           [-1, 64, 32, 32]          36,864\n",
            "       BatchNorm2d-9           [-1, 64, 32, 32]             128\n",
            "           Conv2d-10           [-1, 64, 32, 32]          36,864\n",
            "      BatchNorm2d-11           [-1, 64, 32, 32]             128\n",
            "       BasicBlock-12           [-1, 64, 32, 32]               0\n",
            "           Conv2d-13           [-1, 64, 32, 32]          36,864\n",
            "      BatchNorm2d-14           [-1, 64, 32, 32]             128\n",
            "           Conv2d-15           [-1, 64, 32, 32]          36,864\n",
            "      BatchNorm2d-16           [-1, 64, 32, 32]             128\n",
            "       BasicBlock-17           [-1, 64, 32, 32]               0\n",
            "           Conv2d-18           [-1, 64, 32, 32]          36,864\n",
            "      BatchNorm2d-19           [-1, 64, 32, 32]             128\n",
            "           Conv2d-20           [-1, 64, 32, 32]          36,864\n",
            "      BatchNorm2d-21           [-1, 64, 32, 32]             128\n",
            "       BasicBlock-22           [-1, 64, 32, 32]               0\n",
            "           Conv2d-23          [-1, 128, 16, 16]          73,728\n",
            "      BatchNorm2d-24          [-1, 128, 16, 16]             256\n",
            "           Conv2d-25          [-1, 128, 16, 16]         147,456\n",
            "      BatchNorm2d-26          [-1, 128, 16, 16]             256\n",
            "           Conv2d-27          [-1, 128, 16, 16]           8,192\n",
            "      BatchNorm2d-28          [-1, 128, 16, 16]             256\n",
            "       BasicBlock-29          [-1, 128, 16, 16]               0\n",
            "           Conv2d-30          [-1, 128, 16, 16]         147,456\n",
            "      BatchNorm2d-31          [-1, 128, 16, 16]             256\n",
            "           Conv2d-32          [-1, 128, 16, 16]         147,456\n",
            "      BatchNorm2d-33          [-1, 128, 16, 16]             256\n",
            "       BasicBlock-34          [-1, 128, 16, 16]               0\n",
            "           Conv2d-35          [-1, 128, 16, 16]         147,456\n",
            "      BatchNorm2d-36          [-1, 128, 16, 16]             256\n",
            "           Conv2d-37          [-1, 128, 16, 16]         147,456\n",
            "      BatchNorm2d-38          [-1, 128, 16, 16]             256\n",
            "       BasicBlock-39          [-1, 128, 16, 16]               0\n",
            "           Conv2d-40          [-1, 128, 16, 16]         147,456\n",
            "      BatchNorm2d-41          [-1, 128, 16, 16]             256\n",
            "           Conv2d-42          [-1, 128, 16, 16]         147,456\n",
            "      BatchNorm2d-43          [-1, 128, 16, 16]             256\n",
            "       BasicBlock-44          [-1, 128, 16, 16]               0\n",
            "           Conv2d-45            [-1, 256, 8, 8]         294,912\n",
            "      BatchNorm2d-46            [-1, 256, 8, 8]             512\n",
            "           Conv2d-47            [-1, 256, 8, 8]         589,824\n",
            "      BatchNorm2d-48            [-1, 256, 8, 8]             512\n",
            "           Conv2d-49            [-1, 256, 8, 8]          32,768\n",
            "      BatchNorm2d-50            [-1, 256, 8, 8]             512\n",
            "       BasicBlock-51            [-1, 256, 8, 8]               0\n",
            "           Conv2d-52            [-1, 256, 8, 8]         589,824\n",
            "      BatchNorm2d-53            [-1, 256, 8, 8]             512\n",
            "           Conv2d-54            [-1, 256, 8, 8]         589,824\n",
            "      BatchNorm2d-55            [-1, 256, 8, 8]             512\n",
            "       BasicBlock-56            [-1, 256, 8, 8]               0\n",
            "           Conv2d-57            [-1, 256, 8, 8]         589,824\n",
            "      BatchNorm2d-58            [-1, 256, 8, 8]             512\n",
            "           Conv2d-59            [-1, 256, 8, 8]         589,824\n",
            "      BatchNorm2d-60            [-1, 256, 8, 8]             512\n",
            "       BasicBlock-61            [-1, 256, 8, 8]               0\n",
            "           Linear-62                   [-1, 10]          10,250\n",
            "================================================================\n",
            "Total params: 4,704,842\n",
            "Trainable params: 4,704,842\n",
            "Non-trainable params: 0\n",
            "----------------------------------------------------------------\n",
            "Input size (MB): 0.01\n",
            "Forward/backward pass size (MB): 18.63\n",
            "Params size (MB): 17.95\n",
            "Estimated Total Size (MB): 36.58\n",
            "----------------------------------------------------------------\n"
          ]
        }
      ],
      "source": [
        "# residual layer reduction and residual block modification \n",
        "net2 = ResNet(BasicBlock, [4, 4, 3], [64, 128, 256], [1, 2, 2], 1024)\n",
        "models.append(net2)\n",
        "net2 = net2.to(device)\n",
        "summary(net2, (3, 32, 32))"
      ]
    },
    {
      "cell_type": "code",
      "execution_count": 13,
      "id": "03ed53bc-0e95-4d53-9c39-9e8bbc41a4eb",
      "metadata": {
        "id": "03ed53bc-0e95-4d53-9c39-9e8bbc41a4eb",
        "colab": {
          "base_uri": "https://localhost:8080/"
        },
        "outputId": "402799e2-d6f2-4ed3-9df8-24ef8ccf1b32"
      },
      "outputs": [
        {
          "output_type": "stream",
          "name": "stdout",
          "text": [
            "----------------------------------------------------------------\n",
            "        Layer (type)               Output Shape         Param #\n",
            "================================================================\n",
            "            Conv2d-1           [-1, 64, 32, 32]           1,728\n",
            "       BatchNorm2d-2           [-1, 64, 32, 32]             128\n",
            "            Conv2d-3          [-1, 128, 32, 32]          73,728\n",
            "       BatchNorm2d-4          [-1, 128, 32, 32]             256\n",
            "            Conv2d-5          [-1, 128, 32, 32]         147,456\n",
            "       BatchNorm2d-6          [-1, 128, 32, 32]             256\n",
            "            Conv2d-7          [-1, 128, 32, 32]           8,192\n",
            "       BatchNorm2d-8          [-1, 128, 32, 32]             256\n",
            "        BasicBlock-9          [-1, 128, 32, 32]               0\n",
            "           Conv2d-10          [-1, 256, 16, 16]         294,912\n",
            "      BatchNorm2d-11          [-1, 256, 16, 16]             512\n",
            "           Conv2d-12          [-1, 256, 16, 16]         589,824\n",
            "      BatchNorm2d-13          [-1, 256, 16, 16]             512\n",
            "           Conv2d-14          [-1, 256, 16, 16]          32,768\n",
            "      BatchNorm2d-15          [-1, 256, 16, 16]             512\n",
            "       BasicBlock-16          [-1, 256, 16, 16]               0\n",
            "           Conv2d-17            [-1, 512, 8, 8]       1,179,648\n",
            "      BatchNorm2d-18            [-1, 512, 8, 8]           1,024\n",
            "           Conv2d-19            [-1, 512, 8, 8]       2,359,296\n",
            "      BatchNorm2d-20            [-1, 512, 8, 8]           1,024\n",
            "           Conv2d-21            [-1, 512, 8, 8]         131,072\n",
            "      BatchNorm2d-22            [-1, 512, 8, 8]           1,024\n",
            "       BasicBlock-23            [-1, 512, 8, 8]               0\n",
            "           Linear-24                   [-1, 10]          20,490\n",
            "================================================================\n",
            "Total params: 4,844,618\n",
            "Trainable params: 4,844,618\n",
            "Non-trainable params: 0\n",
            "----------------------------------------------------------------\n",
            "Input size (MB): 0.01\n",
            "Forward/backward pass size (MB): 13.25\n",
            "Params size (MB): 18.48\n",
            "Estimated Total Size (MB): 31.74\n",
            "----------------------------------------------------------------\n"
          ]
        }
      ],
      "source": [
        "# reducing residual layer, reducing residual block and increasing number of chan modification\n",
        "net3 = ResNet(BasicBlock, [1, 1, 1], [128, 256, 512], [1, 2, 2], 2048)\n",
        "models.append(net3)\n",
        "net3 = net3.to(device)\n",
        "summary(net3, (3, 32, 32))"
      ]
    },
    {
      "cell_type": "code",
      "execution_count": 14,
      "id": "a8b4c7ac-8c00-426b-aedc-72a9e757d44e",
      "metadata": {
        "id": "a8b4c7ac-8c00-426b-aedc-72a9e757d44e",
        "colab": {
          "base_uri": "https://localhost:8080/"
        },
        "outputId": "6234991c-1d3f-468c-ad4f-0ddcd3ea0f3c"
      },
      "outputs": [
        {
          "output_type": "stream",
          "name": "stdout",
          "text": [
            "----------------------------------------------------------------\n",
            "        Layer (type)               Output Shape         Param #\n",
            "================================================================\n",
            "            Conv2d-1           [-1, 64, 32, 32]           1,728\n",
            "       BatchNorm2d-2           [-1, 64, 32, 32]             128\n",
            "            Conv2d-3          [-1, 128, 32, 32]          73,728\n",
            "       BatchNorm2d-4          [-1, 128, 32, 32]             256\n",
            "            Conv2d-5          [-1, 128, 32, 32]         147,456\n",
            "       BatchNorm2d-6          [-1, 128, 32, 32]             256\n",
            "            Conv2d-7          [-1, 128, 32, 32]           8,192\n",
            "       BatchNorm2d-8          [-1, 128, 32, 32]             256\n",
            "        BasicBlock-9          [-1, 128, 32, 32]               0\n",
            "           Conv2d-10          [-1, 256, 16, 16]         294,912\n",
            "      BatchNorm2d-11          [-1, 256, 16, 16]             512\n",
            "           Conv2d-12          [-1, 256, 16, 16]         589,824\n",
            "      BatchNorm2d-13          [-1, 256, 16, 16]             512\n",
            "           Conv2d-14          [-1, 256, 16, 16]          32,768\n",
            "      BatchNorm2d-15          [-1, 256, 16, 16]             512\n",
            "       BasicBlock-16          [-1, 256, 16, 16]               0\n",
            "           Conv2d-17            [-1, 512, 8, 8]       1,179,648\n",
            "      BatchNorm2d-18            [-1, 512, 8, 8]           1,024\n",
            "           Conv2d-19            [-1, 512, 8, 8]       2,359,296\n",
            "      BatchNorm2d-20            [-1, 512, 8, 8]           1,024\n",
            "           Conv2d-21            [-1, 512, 8, 8]         131,072\n",
            "      BatchNorm2d-22            [-1, 512, 8, 8]           1,024\n",
            "       BasicBlock-23            [-1, 512, 8, 8]               0\n",
            "           Linear-24                   [-1, 10]          81,930\n",
            "================================================================\n",
            "Total params: 4,906,058\n",
            "Trainable params: 4,906,058\n",
            "Non-trainable params: 0\n",
            "----------------------------------------------------------------\n",
            "Input size (MB): 0.01\n",
            "Forward/backward pass size (MB): 13.25\n",
            "Params size (MB): 18.72\n",
            "Estimated Total Size (MB): 31.98\n",
            "----------------------------------------------------------------\n"
          ]
        }
      ],
      "source": [
        "# reducing residual layer, reducing residual block, increasing number of channels, modifying average pool kernel size \n",
        "net4 = ResNet(BasicBlock, [1, 1, 1], [128, 256, 512], [1, 2, 2], 8192, avg_pool_size = 2)\n",
        "models.append(net4)\n",
        "net4 = net4.to(device)\n",
        "summary(net4, (3, 32, 32))"
      ]
    },
    {
      "cell_type": "code",
      "execution_count": 15,
      "id": "589fe5f8-e1e6-4c4e-9466-6431bc0bf165",
      "metadata": {
        "id": "589fe5f8-e1e6-4c4e-9466-6431bc0bf165",
        "colab": {
          "base_uri": "https://localhost:8080/"
        },
        "outputId": "b2867603-6436-4cf0-f839-d0e0bfd937a9"
      },
      "outputs": [
        {
          "output_type": "stream",
          "name": "stdout",
          "text": [
            "----------------------------------------------------------------\n",
            "        Layer (type)               Output Shape         Param #\n",
            "================================================================\n",
            "            Conv2d-1          [-1, 128, 32, 32]           3,456\n",
            "       BatchNorm2d-2          [-1, 128, 32, 32]             256\n",
            "            Conv2d-3          [-1, 128, 32, 32]         147,456\n",
            "       BatchNorm2d-4          [-1, 128, 32, 32]             256\n",
            "            Conv2d-5          [-1, 128, 32, 32]         147,456\n",
            "       BatchNorm2d-6          [-1, 128, 32, 32]             256\n",
            "        BasicBlock-7          [-1, 128, 32, 32]               0\n",
            "            Conv2d-8          [-1, 256, 16, 16]         294,912\n",
            "       BatchNorm2d-9          [-1, 256, 16, 16]             512\n",
            "           Conv2d-10          [-1, 256, 16, 16]         589,824\n",
            "      BatchNorm2d-11          [-1, 256, 16, 16]             512\n",
            "           Conv2d-12          [-1, 256, 16, 16]          32,768\n",
            "      BatchNorm2d-13          [-1, 256, 16, 16]             512\n",
            "       BasicBlock-14          [-1, 256, 16, 16]               0\n",
            "           Conv2d-15            [-1, 512, 8, 8]       1,179,648\n",
            "      BatchNorm2d-16            [-1, 512, 8, 8]           1,024\n",
            "           Conv2d-17            [-1, 512, 8, 8]       2,359,296\n",
            "      BatchNorm2d-18            [-1, 512, 8, 8]           1,024\n",
            "           Conv2d-19            [-1, 512, 8, 8]         131,072\n",
            "      BatchNorm2d-20            [-1, 512, 8, 8]           1,024\n",
            "       BasicBlock-21            [-1, 512, 8, 8]               0\n",
            "           Linear-22                   [-1, 10]          20,490\n",
            "================================================================\n",
            "Total params: 4,911,754\n",
            "Trainable params: 4,911,754\n",
            "Non-trainable params: 0\n",
            "----------------------------------------------------------------\n",
            "Input size (MB): 0.01\n",
            "Forward/backward pass size (MB): 12.25\n",
            "Params size (MB): 18.74\n",
            "Estimated Total Size (MB): 31.00\n",
            "----------------------------------------------------------------\n"
          ]
        }
      ],
      "source": [
        "# reducing residual layer, reducing residual block, in planes = 128 and increasing number of chan modification\n",
        "net5 = ResNet(BasicBlock, [1, 1, 1], [128, 256, 512], [1, 2, 2], 2048, in_planes=128)\n",
        "models.append(net5)\n",
        "net5 = net5.to(device)\n",
        "summary(net5, (3, 32, 32))"
      ]
    },
    {
      "cell_type": "code",
      "execution_count": 16,
      "id": "d2f32e44-163e-401b-945e-5633a77a6c08",
      "metadata": {
        "id": "d2f32e44-163e-401b-945e-5633a77a6c08",
        "colab": {
          "base_uri": "https://localhost:8080/"
        },
        "outputId": "79122d66-2b7c-4c0f-e87a-ce10833be63a"
      },
      "outputs": [
        {
          "output_type": "stream",
          "name": "stdout",
          "text": [
            "----------------------------------------------------------------\n",
            "        Layer (type)               Output Shape         Param #\n",
            "================================================================\n",
            "            Conv2d-1          [-1, 128, 32, 32]           3,456\n",
            "       BatchNorm2d-2          [-1, 128, 32, 32]             256\n",
            "            Conv2d-3          [-1, 128, 32, 32]         147,456\n",
            "       BatchNorm2d-4          [-1, 128, 32, 32]             256\n",
            "            Conv2d-5          [-1, 128, 32, 32]         147,456\n",
            "       BatchNorm2d-6          [-1, 128, 32, 32]             256\n",
            "        BasicBlock-7          [-1, 128, 32, 32]               0\n",
            "            Conv2d-8          [-1, 256, 16, 16]         294,912\n",
            "       BatchNorm2d-9          [-1, 256, 16, 16]             512\n",
            "           Conv2d-10          [-1, 256, 16, 16]         589,824\n",
            "      BatchNorm2d-11          [-1, 256, 16, 16]             512\n",
            "           Conv2d-12          [-1, 256, 16, 16]          32,768\n",
            "      BatchNorm2d-13          [-1, 256, 16, 16]             512\n",
            "       BasicBlock-14          [-1, 256, 16, 16]               0\n",
            "           Conv2d-15            [-1, 512, 8, 8]       1,179,648\n",
            "      BatchNorm2d-16            [-1, 512, 8, 8]           1,024\n",
            "           Conv2d-17            [-1, 512, 8, 8]       2,359,296\n",
            "      BatchNorm2d-18            [-1, 512, 8, 8]           1,024\n",
            "           Conv2d-19            [-1, 512, 8, 8]         131,072\n",
            "      BatchNorm2d-20            [-1, 512, 8, 8]           1,024\n",
            "       BasicBlock-21            [-1, 512, 8, 8]               0\n",
            "           Linear-22                   [-1, 10]          81,930\n",
            "================================================================\n",
            "Total params: 4,973,194\n",
            "Trainable params: 4,973,194\n",
            "Non-trainable params: 0\n",
            "----------------------------------------------------------------\n",
            "Input size (MB): 0.01\n",
            "Forward/backward pass size (MB): 12.25\n",
            "Params size (MB): 18.97\n",
            "Estimated Total Size (MB): 31.23\n",
            "----------------------------------------------------------------\n"
          ]
        }
      ],
      "source": [
        "# reducing residual layer, reducing residual block, increasing number of channels, modifying average pool kernel size, in_planes = 128 \n",
        "net6 = ResNet(BasicBlock, [1, 1, 1], [128, 256, 512], [1, 2, 2], 8192, in_planes=128, avg_pool_size = 2)\n",
        "models.append(net6)\n",
        "net6 = net6.to(device)\n",
        "summary(net6, (3, 32, 32))"
      ]
    },
    {
      "cell_type": "markdown",
      "id": "0b24dd91-0a6c-4a3b-983b-097861dece53",
      "metadata": {
        "tags": [],
        "id": "0b24dd91-0a6c-4a3b-983b-097861dece53"
      },
      "source": [
        "### Training and Testing them to compare performances"
      ]
    },
    {
      "cell_type": "code",
      "execution_count": 17,
      "id": "3ac3d9ba-bab9-4ed2-891b-32b2b4bae4fb",
      "metadata": {
        "id": "3ac3d9ba-bab9-4ed2-891b-32b2b4bae4fb"
      },
      "outputs": [],
      "source": [
        "import os\n",
        "import time"
      ]
    },
    {
      "cell_type": "markdown",
      "id": "0940a95a-6239-4a5c-9172-3a197e0c4ff6",
      "metadata": {
        "id": "0940a95a-6239-4a5c-9172-3a197e0c4ff6"
      },
      "source": [
        "Change the model below to train each network."
      ]
    },
    {
      "cell_type": "code",
      "source": [
        "# Specify the model configuration to use\n",
        "model_num = 6"
      ],
      "metadata": {
        "id": "4LUWZjxEmYoB"
      },
      "id": "4LUWZjxEmYoB",
      "execution_count": 18,
      "outputs": []
    },
    {
      "cell_type": "code",
      "execution_count": 19,
      "id": "01d2b2bd-1bfc-46b3-8897-952d7c8b3af9",
      "metadata": {
        "id": "01d2b2bd-1bfc-46b3-8897-952d7c8b3af9"
      },
      "outputs": [],
      "source": [
        "model = models[model_num-1].to(device)\n",
        "if device == 'cuda':\n",
        "    model = torch.nn.DataParallel(model)\n",
        "    cudnn.benchmark = True"
      ]
    },
    {
      "cell_type": "code",
      "execution_count": 20,
      "id": "9b85bad8-a9fd-4877-a452-ce830d7b3efd",
      "metadata": {
        "id": "9b85bad8-a9fd-4877-a452-ce830d7b3efd"
      },
      "outputs": [],
      "source": [
        "criterion = nn.CrossEntropyLoss()\n",
        "optimizer = optim.Adam(model.parameters())\n",
        "scheduler = torch.optim.lr_scheduler.CosineAnnealingLR(optimizer, T_max=200)"
      ]
    },
    {
      "cell_type": "code",
      "execution_count": 21,
      "id": "0938e49a-307c-4bc9-89aa-52c4faf9e4ad",
      "metadata": {
        "id": "0938e49a-307c-4bc9-89aa-52c4faf9e4ad"
      },
      "outputs": [],
      "source": [
        "def epoch_time(start_time, end_time):\n",
        "    elapsed_time = end_time - start_time\n",
        "    elapsed_mins = int(elapsed_time / 60)\n",
        "    elapsed_secs = int(elapsed_time - (elapsed_mins * 60))\n",
        "    return elapsed_mins, elapsed_secs\n"
      ]
    },
    {
      "cell_type": "code",
      "source": [
        "def calculate_accuracy(y_pred, y):\n",
        "    top_pred = y_pred.argmax(1, keepdim = True)\n",
        "    correct = top_pred.eq(y.view_as(top_pred)).sum()\n",
        "    acc = correct.float() / y.shape[0]\n",
        "    return acc"
      ],
      "metadata": {
        "id": "9JpxZZTgVSCX"
      },
      "id": "9JpxZZTgVSCX",
      "execution_count": 22,
      "outputs": []
    },
    {
      "cell_type": "markdown",
      "id": "1f8a4b1b-1aa4-4976-9259-c15c11c126db",
      "metadata": {
        "id": "1f8a4b1b-1aa4-4976-9259-c15c11c126db"
      },
      "source": [
        "Change the checkpoint name below to save different model checkpoints. We are saving the model state, validation accuracy for each epoch in checkpoints. We are also printing validation loss and accuracy for each epoch."
      ]
    },
    {
      "cell_type": "code",
      "execution_count": 23,
      "id": "6fbd62d2-4e99-4a28-b613-8fb6366faf00",
      "metadata": {
        "id": "6fbd62d2-4e99-4a28-b613-8fb6366faf00"
      },
      "outputs": [],
      "source": [
        "def train(net, iterator, optimizer, criterion, device):\n",
        "    net.train()\n",
        "    train_loss = 0\n",
        "    correct = 0\n",
        "    total = 0\n",
        "    for batch_idx, (inputs, targets) in enumerate(iterator):\n",
        "        inputs, targets = inputs.to(device), targets.to(device)\n",
        "        optimizer.zero_grad()\n",
        "        outputs = net(inputs)\n",
        "        loss = criterion(outputs, targets)\n",
        "        loss.backward()\n",
        "        optimizer.step()\n",
        "\n",
        "        train_loss += loss.item()\n",
        "        _, predicted = outputs.max(1)\n",
        "        correct += predicted.eq(targets).sum().item()\n",
        "        total += targets.size(0)\n",
        "\n",
        "    return train_loss / (batch_idx+1), 100.*correct / total"
      ]
    },
    {
      "cell_type": "code",
      "source": [
        "def evaluate(net, iterator, criterion, device):\n",
        "    net.eval()\n",
        "    test_loss = 0\n",
        "    correct = 0\n",
        "    total = 0\n",
        "    with torch.no_grad():\n",
        "        for batch_idx, (inputs, targets) in enumerate(iterator):\n",
        "            inputs, targets = inputs.to(device), targets.to(device)\n",
        "            outputs = net(inputs)\n",
        "            loss = criterion(outputs, targets)\n",
        "\n",
        "            test_loss += loss.item()\n",
        "            _, predicted = outputs.max(1)\n",
        "            correct += predicted.eq(targets).sum().item()\n",
        "            total += targets.size(0)\n",
        "\n",
        "\n",
        "    return test_loss / (batch_idx+1), 100.*correct / total"
      ],
      "metadata": {
        "id": "mLDawvAxU9wP"
      },
      "id": "mLDawvAxU9wP",
      "execution_count": 24,
      "outputs": []
    },
    {
      "cell_type": "code",
      "source": [
        "import time\n",
        "\n",
        "def current_seconds_time():\n",
        "    return round(time.time())"
      ],
      "metadata": {
        "id": "ES3y9pwnVYvB"
      },
      "id": "ES3y9pwnVYvB",
      "execution_count": 25,
      "outputs": []
    },
    {
      "cell_type": "code",
      "source": [
        "EPOCHS = 40\n",
        "\n",
        "total_start_time = current_seconds_time()\n",
        "best_valid_acc = 0\n",
        "for epoch in range(EPOCHS):\n",
        "  start_time = current_seconds_time()\n",
        "  train_loss, train_accuracy = train(model, train_iterator, optimizer, criterion, device)\n",
        "  valid_loss, valid_accuracy = evaluate(model, valid_iterator, criterion, device)\n",
        "  if valid_accuracy > best_valid_acc:\n",
        "    save_location = f\"{proj_root}/model_\"+str(model_num)+\".pt\"\n",
        "    torch.save(model, save_location)\n",
        "    best_valid_acc = valid_accuracy\n",
        "  end_time = current_seconds_time()\n",
        "  elapsed_mins, elapsed_secs = epoch_time(start_time, end_time)\n",
        "  print('Epoch %s, Train loss %s, Valid loss %s, Train accuracy %s, Valid accuracy %s Elapsed mins %s Elapsed secs %s'%(epoch, train_loss, valid_loss, train_accuracy, valid_accuracy, elapsed_mins, elapsed_secs))\n",
        "total_end_time = current_seconds_time()\n",
        "full_mins, full_secs = epoch_time(total_start_time, total_end_time)"
      ],
      "metadata": {
        "id": "mbyINDh8Vf1s",
        "colab": {
          "base_uri": "https://localhost:8080/"
        },
        "outputId": "819f9b3a-12b9-42c3-fb7c-7bc5a24b60ca"
      },
      "id": "mbyINDh8Vf1s",
      "execution_count": 26,
      "outputs": [
        {
          "output_type": "stream",
          "name": "stdout",
          "text": [
            "Epoch 0, Train loss 1.5432998839427123, Valid loss 1.2360077333450317, Train accuracy 44.95777777777778, Valid accuracy 56.18 Elapsed mins 0 Elapsed secs 44\n",
            "Epoch 1, Train loss 1.0952703470194882, Valid loss 0.9228616285324097, Train accuracy 60.88444444444445, Valid accuracy 67.56 Elapsed mins 0 Elapsed secs 44\n",
            "Epoch 2, Train loss 0.8817588317800652, Valid loss 0.7551486396789551, Train accuracy 68.97777777777777, Valid accuracy 73.36 Elapsed mins 0 Elapsed secs 42\n",
            "Epoch 3, Train loss 0.7475492420860312, Valid loss 0.7479377114772796, Train accuracy 73.51555555555555, Valid accuracy 73.34 Elapsed mins 0 Elapsed secs 43\n",
            "Epoch 4, Train loss 0.6654799139465798, Valid loss 0.6248440283536911, Train accuracy 76.77777777777777, Valid accuracy 78.64 Elapsed mins 0 Elapsed secs 43\n",
            "Epoch 5, Train loss 0.5814188099889592, Valid loss 0.6455115741491317, Train accuracy 79.88444444444444, Valid accuracy 78.1 Elapsed mins 0 Elapsed secs 42\n",
            "Epoch 6, Train loss 0.5280861524357037, Valid loss 0.5024100786447525, Train accuracy 81.70444444444445, Valid accuracy 82.76 Elapsed mins 0 Elapsed secs 43\n",
            "Epoch 7, Train loss 0.4775728735734116, Valid loss 0.5575324356555938, Train accuracy 83.5911111111111, Valid accuracy 81.52 Elapsed mins 0 Elapsed secs 43\n",
            "Epoch 8, Train loss 0.43622384245761414, Valid loss 0.5449936479330063, Train accuracy 84.79555555555555, Valid accuracy 82.02 Elapsed mins 0 Elapsed secs 43\n",
            "Epoch 9, Train loss 0.4061236416243694, Valid loss 0.4524533820152283, Train accuracy 85.7911111111111, Valid accuracy 84.56 Elapsed mins 0 Elapsed secs 42\n",
            "Epoch 10, Train loss 0.374389460564337, Valid loss 0.45972196877002713, Train accuracy 87.21777777777778, Valid accuracy 84.42 Elapsed mins 0 Elapsed secs 43\n",
            "Epoch 11, Train loss 0.34721382601525297, Valid loss 0.4673068615794182, Train accuracy 88.09555555555555, Valid accuracy 83.94 Elapsed mins 0 Elapsed secs 43\n",
            "Epoch 12, Train loss 0.3184501778080382, Valid loss 0.4485727316141129, Train accuracy 88.98666666666666, Valid accuracy 85.04 Elapsed mins 0 Elapsed secs 43\n",
            "Epoch 13, Train loss 0.2928422379561446, Valid loss 0.3756650406122208, Train accuracy 89.99555555555555, Valid accuracy 87.36 Elapsed mins 0 Elapsed secs 42\n",
            "Epoch 14, Train loss 0.27023066199299967, Valid loss 0.43339674174785614, Train accuracy 90.64444444444445, Valid accuracy 86.18 Elapsed mins 0 Elapsed secs 43\n",
            "Epoch 15, Train loss 0.2565212846013971, Valid loss 0.3768137383460999, Train accuracy 91.01333333333334, Valid accuracy 87.5 Elapsed mins 0 Elapsed secs 43\n",
            "Epoch 16, Train loss 0.24069701122458687, Valid loss 0.3962078899145126, Train accuracy 91.59777777777778, Valid accuracy 87.7 Elapsed mins 0 Elapsed secs 43\n",
            "Epoch 17, Train loss 0.217956405937333, Valid loss 0.34151340782642364, Train accuracy 92.43777777777778, Valid accuracy 89.02 Elapsed mins 0 Elapsed secs 43\n",
            "Epoch 18, Train loss 0.20589491492137313, Valid loss 0.3743109279870987, Train accuracy 92.70666666666666, Valid accuracy 88.24 Elapsed mins 0 Elapsed secs 42\n",
            "Epoch 19, Train loss 0.19276057147759607, Valid loss 0.35310393810272217, Train accuracy 93.21777777777778, Valid accuracy 89.2 Elapsed mins 0 Elapsed secs 43\n",
            "Epoch 20, Train loss 0.18066082465123723, Valid loss 0.33810658439993857, Train accuracy 93.78, Valid accuracy 89.24 Elapsed mins 0 Elapsed secs 43\n",
            "Epoch 21, Train loss 0.1649262224197049, Valid loss 0.38678704053163526, Train accuracy 94.02444444444444, Valid accuracy 88.34 Elapsed mins 0 Elapsed secs 42\n",
            "Epoch 22, Train loss 0.15305460699495266, Valid loss 0.34607093811035156, Train accuracy 94.54888888888888, Valid accuracy 89.56 Elapsed mins 0 Elapsed secs 43\n",
            "Epoch 23, Train loss 0.1434277799615467, Valid loss 0.37957667171955106, Train accuracy 94.95777777777778, Valid accuracy 88.82 Elapsed mins 0 Elapsed secs 43\n",
            "Epoch 24, Train loss 0.13539095329840414, Valid loss 0.3700848534703255, Train accuracy 95.29777777777778, Valid accuracy 89.18 Elapsed mins 0 Elapsed secs 42\n",
            "Epoch 25, Train loss 0.12450644760710103, Valid loss 0.3447667053341866, Train accuracy 95.72888888888889, Valid accuracy 89.7 Elapsed mins 0 Elapsed secs 43\n",
            "Epoch 26, Train loss 0.11800880209987306, Valid loss 0.3867173147201538, Train accuracy 95.72444444444444, Valid accuracy 89.4 Elapsed mins 0 Elapsed secs 43\n",
            "Epoch 27, Train loss 0.1125909075437283, Valid loss 0.3341497504711151, Train accuracy 96.01777777777778, Valid accuracy 90.24 Elapsed mins 0 Elapsed secs 42\n",
            "Epoch 28, Train loss 0.1057675351515751, Valid loss 0.36235618829727173, Train accuracy 96.26, Valid accuracy 89.98 Elapsed mins 0 Elapsed secs 43\n",
            "Epoch 29, Train loss 0.09717773325444962, Valid loss 0.39058934479951857, Train accuracy 96.53777777777778, Valid accuracy 89.28 Elapsed mins 0 Elapsed secs 42\n",
            "Epoch 30, Train loss 0.09094181707636877, Valid loss 0.35285761386156084, Train accuracy 96.77777777777777, Valid accuracy 90.26 Elapsed mins 0 Elapsed secs 43\n",
            "Epoch 31, Train loss 0.08865184296684508, Valid loss 0.405289461016655, Train accuracy 96.7688888888889, Valid accuracy 88.84 Elapsed mins 0 Elapsed secs 43\n",
            "Epoch 32, Train loss 0.08811022324053655, Valid loss 0.35997755378484725, Train accuracy 96.96, Valid accuracy 90.14 Elapsed mins 0 Elapsed secs 42\n",
            "Epoch 33, Train loss 0.07421779437043535, Valid loss 0.393388611972332, Train accuracy 97.42444444444445, Valid accuracy 89.9 Elapsed mins 0 Elapsed secs 44\n",
            "Epoch 34, Train loss 0.07651558231604709, Valid loss 0.3580587636679411, Train accuracy 97.3, Valid accuracy 90.9 Elapsed mins 0 Elapsed secs 42\n",
            "Epoch 35, Train loss 0.06845888187473809, Valid loss 0.38935796439647674, Train accuracy 97.54222222222222, Valid accuracy 89.98 Elapsed mins 0 Elapsed secs 43\n",
            "Epoch 36, Train loss 0.06797928421027874, Valid loss 0.3728630734980106, Train accuracy 97.56666666666666, Valid accuracy 90.78 Elapsed mins 0 Elapsed secs 42\n",
            "Epoch 37, Train loss 0.06801772073959, Valid loss 0.3940186914801598, Train accuracy 97.59777777777778, Valid accuracy 90.46 Elapsed mins 0 Elapsed secs 43\n",
            "Epoch 38, Train loss 0.06658986729135821, Valid loss 0.39888046979904174, Train accuracy 97.61111111111111, Valid accuracy 89.86 Elapsed mins 0 Elapsed secs 43\n",
            "Epoch 39, Train loss 0.057234516586917875, Valid loss 0.40836111158132554, Train accuracy 98.0111111111111, Valid accuracy 90.1 Elapsed mins 0 Elapsed secs 42\n"
          ]
        }
      ]
    },
    {
      "cell_type": "code",
      "source": [
        "print(f\"Total time elapsed: {full_mins}m {full_secs}s\")\n",
        "print(f\"Best valid accuracy: {best_valid_acc}%\")"
      ],
      "metadata": {
        "id": "ce3dWhNexno-",
        "colab": {
          "base_uri": "https://localhost:8080/"
        },
        "outputId": "864b68c2-7cfa-4047-dafa-23aa4288dc83"
      },
      "id": "ce3dWhNexno-",
      "execution_count": 27,
      "outputs": [
        {
          "output_type": "stream",
          "name": "stdout",
          "text": [
            "Total time elapsed: 28m 30s\n",
            "Best valid accuracy: 90.9%\n"
          ]
        }
      ]
    },
    {
      "cell_type": "markdown",
      "id": "e88b2786-3f1d-4bf6-aabe-1cde0d1cd13e",
      "metadata": {
        "id": "e88b2786-3f1d-4bf6-aabe-1cde0d1cd13e"
      },
      "source": [
        "## Visualizing Performance of different models"
      ]
    },
    {
      "cell_type": "code",
      "execution_count": 28,
      "id": "5f42bce3-7b2b-4b13-a21b-250f199515a1",
      "metadata": {
        "id": "5f42bce3-7b2b-4b13-a21b-250f199515a1",
        "colab": {
          "base_uri": "https://localhost:8080/"
        },
        "outputId": "03633105-78fb-42cd-aacd-71a3fd846df0"
      },
      "outputs": [
        {
          "output_type": "stream",
          "name": "stdout",
          "text": [
            "0.3819424670934677 90.24\n",
            "0.4143017455935478 91.07\n",
            "0.39712472513318064 90.27\n",
            "0.3775533191114664 90.61\n",
            "0.4079685710370541 90.55\n",
            "0.38579435721039773 90.79\n"
          ]
        }
      ],
      "source": [
        "for i, _ in enumerate(models[:model_num]):\n",
        "  save_location =  f\"{proj_root}/model_\"+str(i+1)+\".pt\"\n",
        "  test_model = torch.load(save_location)\n",
        "  test_loss, test_acc = evaluate(test_model, test_iterator, criterion, device)\n",
        "  print(test_loss, test_acc)\n"
      ]
    },
    {
      "cell_type": "markdown",
      "id": "bd23425d-cce8-4d35-8b36-4b1c9f234ae4",
      "metadata": {
        "id": "bd23425d-cce8-4d35-8b36-4b1c9f234ae4"
      },
      "source": [
        "## References"
      ]
    },
    {
      "cell_type": "markdown",
      "id": "4d98e019-7774-4b5a-9ddb-d5dbc6213a38",
      "metadata": {
        "id": "4d98e019-7774-4b5a-9ddb-d5dbc6213a38"
      },
      "source": [
        "1. https://pytorch.org/tutorials/beginner/blitz/cifar10_tutorial.html\n",
        "2. https://github.com/kuangliu/pytorch-cifar\n",
        "3. https://gist.github.com/kevinzakka/d33bf8d6c7f06a9d8c76d97a7879f5cb"
      ]
    }
  ],
  "metadata": {
    "kernelspec": {
      "display_name": "Python 3",
      "name": "python3"
    },
    "language_info": {
      "name": "python"
    },
    "colab": {
      "provenance": []
    },
    "accelerator": "GPU",
    "gpuClass": "standard"
  },
  "nbformat": 4,
  "nbformat_minor": 5
}