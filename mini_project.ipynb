{
  "cells": [
    {
      "cell_type": "markdown",
      "id": "32b111b1-2eb8-47ab-a6e5-06a2da11793b",
      "metadata": {
        "id": "32b111b1-2eb8-47ab-a6e5-06a2da11793b"
      },
      "source": [
        "# Mini Project - Modified ResNet Architecture with CIFAR-10 images"
      ]
    },
    {
      "cell_type": "markdown",
      "id": "00d4fc4a-2d31-4d28-8d4d-d10c58954d33",
      "metadata": {
        "id": "00d4fc4a-2d31-4d28-8d4d-d10c58954d33"
      },
      "source": [
        "**Goal:** In this mini-project we are tasked with coming up \n",
        "with a modified residual network (ResNet)\n",
        "architecture with the **highest test accuracy** on the CIFAR-10 image classification dataset, under the\n",
        "constraint that our model has **no more than 5 million parameters**."
      ]
    },
    {
      "cell_type": "markdown",
      "id": "943cffb1-00cc-491b-bce8-3834f85234c5",
      "metadata": {
        "tags": [],
        "id": "943cffb1-00cc-491b-bce8-3834f85234c5"
      },
      "source": [
        "## Dataset loading and importing packages"
      ]
    },
    {
      "cell_type": "markdown",
      "id": "4bbcd6a0-7b50-408d-aabb-bc89ca2cf4b5",
      "metadata": {
        "id": "4bbcd6a0-7b50-408d-aabb-bc89ca2cf4b5"
      },
      "source": [
        "We are using **Amazon SageMaker Studio Lab** for this mini-project and so there are a lot of packages to download. Additionally, we would be using **CIFAR-10 image classification dataset** which has the classes: ‘airplane’, ‘automobile’, ‘bird’, ‘cat’, ‘deer’, ‘dog’, ‘frog’, ‘horse’, ‘ship’, ‘truck’. The images in CIFAR-10 are of size 3x32x32, i.e. 3-channel color images of 32x32 pixels in size. This dataset can be loaded using the **torchvision** package."
      ]
    },
    {
      "cell_type": "code",
      "execution_count": 1,
      "id": "35e12e67-3869-489a-ac75-9f65715a7c5d",
      "metadata": {
        "id": "35e12e67-3869-489a-ac75-9f65715a7c5d"
      },
      "outputs": [],
      "source": [
        "# Installing Packages - Pytorch, Torchvision, Torchsummary - run only if these libraries are not present in your setup\n",
        "# %pip install torch==1.10.0+cu111 torchvision==0.11.1+cu111 -f https://download.pytorch.org/whl/torch_stable.html --upgrade\n",
        "# %pip install torchsummary "
      ]
    },
    {
      "cell_type": "code",
      "execution_count": 2,
      "id": "bec5b211-a691-4fac-8904-4846958bb1d7",
      "metadata": {
        "id": "bec5b211-a691-4fac-8904-4846958bb1d7"
      },
      "outputs": [],
      "source": [
        "# Importing packages\n",
        "import torch\n",
        "import numpy as np\n",
        "import torch.nn as nn\n",
        "import torch.optim as optim\n",
        "import torch.nn.functional as F\n",
        "import torch.backends.cudnn as cudnn\n",
        "\n",
        "import torchvision\n",
        "import torchvision.transforms as transforms\n",
        "from torch.utils.data.sampler import SubsetRandomSampler\n",
        "\n",
        "import random"
      ]
    },
    {
      "cell_type": "code",
      "source": [
        "# Ensure that you create a folder dlf22_mini_project in your drive account\n",
        "from google.colab import drive\n",
        "drive.mount('/content/drive')\n",
        "proj_root = '/content/drive/MyDrive/dlf22_mini_project'"
      ],
      "metadata": {
        "colab": {
          "base_uri": "https://localhost:8080/"
        },
        "id": "svD19eF3Tw1D",
        "outputId": "ff5d7757-82ad-4c6b-ec90-bd4b69faf568"
      },
      "id": "svD19eF3Tw1D",
      "execution_count": 3,
      "outputs": [
        {
          "output_type": "stream",
          "name": "stdout",
          "text": [
            "Drive already mounted at /content/drive; to attempt to forcibly remount, call drive.mount(\"/content/drive\", force_remount=True).\n"
          ]
        }
      ]
    },
    {
      "cell_type": "markdown",
      "id": "746bd813-751a-4e14-8f9a-c5ee05539f46",
      "metadata": {
        "id": "746bd813-751a-4e14-8f9a-c5ee05539f46"
      },
      "source": [
        "**Training, Validation and Testing Dataloaders** - The training and validation dataloaders are split from the train directory using random seed shuffling of indices. The training dataloader then uses train transformations and batch size 128 which the validation dataloader uses the test transformations with batch size 100. The testing dataset comes from test directory, and dataloader uses test transformations and batch size 100."
      ]
    },
    {
      "cell_type": "code",
      "execution_count": 4,
      "id": "bbe89794-a7ed-46e0-9400-1abf8c69486e",
      "metadata": {
        "id": "bbe89794-a7ed-46e0-9400-1abf8c69486e",
        "colab": {
          "base_uri": "https://localhost:8080/"
        },
        "outputId": "1973e3fc-bd96-40c5-a314-8e3b3109e7f3"
      },
      "outputs": [
        {
          "output_type": "stream",
          "name": "stdout",
          "text": [
            "Files already downloaded and verified\n",
            "Files already downloaded and verified\n",
            "Files already downloaded and verified\n"
          ]
        }
      ],
      "source": [
        "# Loading and Transforming dataset\n",
        "transform_train = transforms.Compose([\n",
        "    transforms.RandomCrop(32, padding=4),\n",
        "    transforms.RandomHorizontalFlip(),\n",
        "    transforms.ToTensor(),\n",
        "    transforms.Normalize((0.4914, 0.4822, 0.4465), (0.2023, 0.1994, 0.2010)),\n",
        "])\n",
        "\n",
        "transform_test = transforms.Compose([\n",
        "    transforms.ToTensor(),\n",
        "    transforms.Normalize((0.4914, 0.4822, 0.4465), (0.2023, 0.1994, 0.2010)),\n",
        "])\n",
        "\n",
        "# Train dataset\n",
        "trainset = torchvision.datasets.CIFAR10(\n",
        "    root='./data', train=True, download=True, transform=transform_train)\n",
        "\n",
        "# trainloader = torch.utils.data.DataLoader(trainset, batch_size=128, shuffle=True, num_workers=2)\n",
        "\n",
        "# Validation dataset\n",
        "valid_dataset = torchvision.datasets.CIFAR10(\n",
        "        root='./data', train=True,\n",
        "        download=True, transform=transform_test,\n",
        "    )\n",
        "\n",
        "# Train - validation split\n",
        "num_train = len(trainset)\n",
        "indices = list(range(num_train))\n",
        "# Size of validation dataset\n",
        "valid_size = 0.1\n",
        "split = int(np.floor(valid_size * num_train))\n",
        "# Shuffle the dataset indices\n",
        "random_seed = random.seed(30)\n",
        "np.random.seed(random_seed)\n",
        "np.random.shuffle(indices)\n",
        "train_idx, valid_idx = indices[split:], indices[:split]\n",
        "train_sampler = SubsetRandomSampler(train_idx)\n",
        "valid_sampler = SubsetRandomSampler(valid_idx)\n",
        "\n",
        "# Dataloaders for train and validation dataset\n",
        "train_iterator= torch.utils.data.DataLoader(\n",
        "        trainset, batch_size=128, sampler=train_sampler,\n",
        "        num_workers=2\n",
        "    )\n",
        "valid_iterator = torch.utils.data.DataLoader(\n",
        "        valid_dataset, batch_size=100, sampler=valid_sampler,\n",
        "        num_workers=2\n",
        "    )\n",
        "\n",
        "    \n",
        "# Test dataset and loader\n",
        "testset = torchvision.datasets.CIFAR10(\n",
        "    root='./data', train=False, download=True, transform=transform_test)\n",
        "test_iterator = torch.utils.data.DataLoader(\n",
        "    testset, batch_size=100, shuffle=False, num_workers=2)\n",
        "\n",
        "# Target classes\n",
        "classes = ('plane', 'car', 'bird', 'cat', 'deer',\n",
        "           'dog', 'frog', 'horse', 'ship', 'truck')"
      ]
    },
    {
      "cell_type": "code",
      "execution_count": 5,
      "id": "10af65d6-7d95-4ae1-acc2-4128f1f4981e",
      "metadata": {
        "id": "10af65d6-7d95-4ae1-acc2-4128f1f4981e",
        "colab": {
          "base_uri": "https://localhost:8080/"
        },
        "outputId": "e41ef39a-f041-4324-d560-3717de5300d1"
      },
      "outputs": [
        {
          "output_type": "stream",
          "name": "stdout",
          "text": [
            "cuda\n"
          ]
        }
      ],
      "source": [
        "# Define our device as the first visible cuda device if we have CUDA available\n",
        "device = 'cuda' if torch.cuda.is_available() else 'cpu'\n",
        "print(device)"
      ]
    },
    {
      "cell_type": "markdown",
      "id": "37eb8574-bf76-4900-a6c8-2623a44a7265",
      "metadata": {
        "tags": [],
        "id": "37eb8574-bf76-4900-a6c8-2623a44a7265"
      },
      "source": [
        "## Define a ResNet"
      ]
    },
    {
      "cell_type": "code",
      "execution_count": 6,
      "id": "f006fd05-cae1-44bd-b3ef-0af9f62658b2",
      "metadata": {
        "id": "f006fd05-cae1-44bd-b3ef-0af9f62658b2"
      },
      "outputs": [],
      "source": [
        "# Installing and Importing Libraries\n",
        "from torchsummary import summary"
      ]
    },
    {
      "cell_type": "code",
      "execution_count": 7,
      "id": "e756502f-55d0-4744-94fb-77b7e0a8d9f1",
      "metadata": {
        "id": "e756502f-55d0-4744-94fb-77b7e0a8d9f1"
      },
      "outputs": [],
      "source": [
        "class BasicBlock(nn.Module):\n",
        "    expansion = 1\n",
        "\n",
        "    def __init__(self, in_planes, planes, stride=1):\n",
        "        super(BasicBlock, self).__init__()\n",
        "        self.conv1 = nn.Conv2d(\n",
        "            in_planes, planes, kernel_size=3, stride=stride, padding=1, bias=False)\n",
        "        self.bn1 = nn.BatchNorm2d(planes)\n",
        "        self.conv2 = nn.Conv2d(planes, planes, kernel_size=3,\n",
        "                               stride=1, padding=1, bias=False)\n",
        "        self.bn2 = nn.BatchNorm2d(planes)\n",
        "\n",
        "        self.shortcut = nn.Sequential()\n",
        "        if stride != 1 or in_planes != self.expansion*planes:\n",
        "            self.shortcut = nn.Sequential(\n",
        "                nn.Conv2d(in_planes, self.expansion*planes,\n",
        "                          kernel_size=1, stride=stride, bias=False),\n",
        "                nn.BatchNorm2d(self.expansion*planes)\n",
        "            )\n",
        "\n",
        "    def forward(self, x):\n",
        "        out = F.relu(self.bn1(self.conv1(x)))\n",
        "        out = self.bn2(self.conv2(out))\n",
        "        out += self.shortcut(x)\n",
        "        out = F.relu(out)\n",
        "        return out"
      ]
    },
    {
      "cell_type": "markdown",
      "id": "51e48f6f-1d5a-4231-8b4b-fb6a8060ef19",
      "metadata": {
        "id": "51e48f6f-1d5a-4231-8b4b-fb6a8060ef19"
      },
      "source": [
        "Created a custom Resnet function to test all configurations"
      ]
    },
    {
      "cell_type": "code",
      "execution_count": 10,
      "id": "0f77f8ad-9221-4d01-ac24-60ecfd4c3fd5",
      "metadata": {
        "id": "0f77f8ad-9221-4d01-ac24-60ecfd4c3fd5"
      },
      "outputs": [],
      "source": [
        "class ResNet(nn.Module):\n",
        "    def __init__(self, block, num_blocks, num_channels = [64, 128, 256, 512], strides = [1, 2, 2, 2], linear_in= 512, in_planes = 64, avg_pool_size = 4, num_classes=10):\n",
        "        super(ResNet, self).__init__()\n",
        "        self.in_planes = in_planes\n",
        "\n",
        "        self.conv1 = nn.Conv2d(3, in_planes, kernel_size=3,\n",
        "                               stride=1, padding=1, bias=False)\n",
        "        self.bn1 = nn.BatchNorm2d(in_planes)\n",
        "        self.layers_list = []\n",
        "        for i in range(len(num_blocks)):\n",
        "            # Makes layers based on the num_blocks, num_channels, strides given\n",
        "            self.layers_list.append(self._make_layer(block, num_channels[i], num_blocks[i], stride=strides[i]))\n",
        "        self.layer1 = nn.Sequential(*self.layers_list)\n",
        "        self.linear = nn.Linear(linear_in*block.expansion, num_classes)\n",
        "        self.avg_pool_size = avg_pool_size\n",
        "\n",
        "    def _make_layer(self, block, planes, num_blocks, stride):\n",
        "        strides = [stride] + [1]*(num_blocks-1)\n",
        "        layers = []\n",
        "        for stride in strides:\n",
        "            layers.append(block(self.in_planes, planes, stride))\n",
        "            self.in_planes = planes * block.expansion\n",
        "        return nn.Sequential(*layers)\n",
        "\n",
        "    def forward(self, x):\n",
        "        out = F.relu(self.bn1(self.conv1(x)))\n",
        "        out = self.layer1(out)\n",
        "        out = F.avg_pool2d(out, self.avg_pool_size)\n",
        "        out = out.view(out.size(0), -1)\n",
        "        out = self.linear(out)\n",
        "        return out"
      ]
    },
    {
      "cell_type": "markdown",
      "id": "0364e9b1-3c8f-4fae-937a-1e7aa52990c3",
      "metadata": {
        "tags": [],
        "id": "0364e9b1-3c8f-4fae-937a-1e7aa52990c3"
      },
      "source": [
        "## Testing different configurations of Resnet-18"
      ]
    },
    {
      "cell_type": "markdown",
      "id": "86a7c1ac-8393-4dfe-b363-8d918c79327a",
      "metadata": {
        "tags": [],
        "id": "86a7c1ac-8393-4dfe-b363-8d918c79327a"
      },
      "source": [
        "### Setting up different configurations"
      ]
    },
    {
      "cell_type": "markdown",
      "id": "6aa801dc-04bb-4176-b9c2-c4278f43c1c3",
      "metadata": {
        "id": "6aa801dc-04bb-4176-b9c2-c4278f43c1c3"
      },
      "source": [
        "Experimented with:\n",
        "\n",
        "Configuration 1 - Reducing number of blocks\n",
        "\n",
        "Configuration 2 - Reducing number of layers and blocks with bottleneck\n",
        "\n",
        "Configuration 3 - Reducing number of layers, blocks and increasing number of channels\n",
        "\n",
        "Configuration 4 - Reducing number of layers, blocks, increasing number of channels and modifying average pool kernel size \n",
        "\n",
        "Configuration 5 - Same configuration as configuration 3 but changing number of in planes\n",
        "\n",
        "Configuration 6 - Same configuration as configuration 4 but changing number of in planes"
      ]
    },
    {
      "cell_type": "code",
      "source": [
        "models = []"
      ],
      "metadata": {
        "id": "ZaLgXtTLXGBB"
      },
      "id": "ZaLgXtTLXGBB",
      "execution_count": 11,
      "outputs": []
    },
    {
      "cell_type": "code",
      "execution_count": 12,
      "id": "f89daa84-b428-4b77-936c-5efe35ce99eb",
      "metadata": {
        "id": "f89daa84-b428-4b77-936c-5efe35ce99eb",
        "colab": {
          "base_uri": "https://localhost:8080/"
        },
        "outputId": "7358dae1-0d3c-4e5f-e9a0-edfe7d602e9d"
      },
      "outputs": [
        {
          "output_type": "stream",
          "name": "stdout",
          "text": [
            "----------------------------------------------------------------\n",
            "        Layer (type)               Output Shape         Param #\n",
            "================================================================\n",
            "            Conv2d-1           [-1, 64, 32, 32]           1,728\n",
            "       BatchNorm2d-2           [-1, 64, 32, 32]             128\n",
            "            Conv2d-3           [-1, 64, 32, 32]          36,864\n",
            "       BatchNorm2d-4           [-1, 64, 32, 32]             128\n",
            "            Conv2d-5           [-1, 64, 32, 32]          36,864\n",
            "       BatchNorm2d-6           [-1, 64, 32, 32]             128\n",
            "        BasicBlock-7           [-1, 64, 32, 32]               0\n",
            "            Conv2d-8           [-1, 64, 32, 32]          36,864\n",
            "       BatchNorm2d-9           [-1, 64, 32, 32]             128\n",
            "           Conv2d-10           [-1, 64, 32, 32]          36,864\n",
            "      BatchNorm2d-11           [-1, 64, 32, 32]             128\n",
            "       BasicBlock-12           [-1, 64, 32, 32]               0\n",
            "           Conv2d-13          [-1, 128, 16, 16]          73,728\n",
            "      BatchNorm2d-14          [-1, 128, 16, 16]             256\n",
            "           Conv2d-15          [-1, 128, 16, 16]         147,456\n",
            "      BatchNorm2d-16          [-1, 128, 16, 16]             256\n",
            "           Conv2d-17          [-1, 128, 16, 16]           8,192\n",
            "      BatchNorm2d-18          [-1, 128, 16, 16]             256\n",
            "       BasicBlock-19          [-1, 128, 16, 16]               0\n",
            "           Conv2d-20          [-1, 128, 16, 16]         147,456\n",
            "      BatchNorm2d-21          [-1, 128, 16, 16]             256\n",
            "           Conv2d-22          [-1, 128, 16, 16]         147,456\n",
            "      BatchNorm2d-23          [-1, 128, 16, 16]             256\n",
            "       BasicBlock-24          [-1, 128, 16, 16]               0\n",
            "           Conv2d-25            [-1, 256, 8, 8]         294,912\n",
            "      BatchNorm2d-26            [-1, 256, 8, 8]             512\n",
            "           Conv2d-27            [-1, 256, 8, 8]         589,824\n",
            "      BatchNorm2d-28            [-1, 256, 8, 8]             512\n",
            "           Conv2d-29            [-1, 256, 8, 8]          32,768\n",
            "      BatchNorm2d-30            [-1, 256, 8, 8]             512\n",
            "       BasicBlock-31            [-1, 256, 8, 8]               0\n",
            "           Conv2d-32            [-1, 256, 8, 8]         589,824\n",
            "      BatchNorm2d-33            [-1, 256, 8, 8]             512\n",
            "           Conv2d-34            [-1, 256, 8, 8]         589,824\n",
            "      BatchNorm2d-35            [-1, 256, 8, 8]             512\n",
            "       BasicBlock-36            [-1, 256, 8, 8]               0\n",
            "           Conv2d-37            [-1, 512, 4, 4]       1,179,648\n",
            "      BatchNorm2d-38            [-1, 512, 4, 4]           1,024\n",
            "           Conv2d-39            [-1, 512, 4, 4]       2,359,296\n",
            "      BatchNorm2d-40            [-1, 512, 4, 4]           1,024\n",
            "           Conv2d-41            [-1, 512, 4, 4]         131,072\n",
            "      BatchNorm2d-42            [-1, 512, 4, 4]           1,024\n",
            "       BasicBlock-43            [-1, 512, 4, 4]               0\n",
            "           Conv2d-44            [-1, 512, 4, 4]       2,359,296\n",
            "      BatchNorm2d-45            [-1, 512, 4, 4]           1,024\n",
            "           Conv2d-46            [-1, 512, 4, 4]       2,359,296\n",
            "      BatchNorm2d-47            [-1, 512, 4, 4]           1,024\n",
            "       BasicBlock-48            [-1, 512, 4, 4]               0\n",
            "           Linear-49                   [-1, 10]           5,130\n",
            "================================================================\n",
            "Total params: 11,173,962\n",
            "Trainable params: 11,173,962\n",
            "Non-trainable params: 0\n",
            "----------------------------------------------------------------\n",
            "Input size (MB): 0.01\n",
            "Forward/backward pass size (MB): 11.25\n",
            "Params size (MB): 42.63\n",
            "Estimated Total Size (MB): 53.89\n",
            "----------------------------------------------------------------\n"
          ]
        }
      ],
      "source": [
        "# Original Resnet-18\n",
        "net = ResNet(BasicBlock, [2, 2, 2, 2], [64, 128, 256, 512], [1, 2, 2, 2])\n",
        "net = net.to(device)\n",
        "summary(net, (3, 32, 32))"
      ]
    },
    {
      "cell_type": "code",
      "execution_count": 13,
      "id": "771da475-cac4-4358-a125-2a796765e3d1",
      "metadata": {
        "id": "771da475-cac4-4358-a125-2a796765e3d1",
        "colab": {
          "base_uri": "https://localhost:8080/"
        },
        "outputId": "468b3912-0d6b-481a-a478-f3adddf3d305"
      },
      "outputs": [
        {
          "output_type": "stream",
          "name": "stdout",
          "text": [
            "----------------------------------------------------------------\n",
            "        Layer (type)               Output Shape         Param #\n",
            "================================================================\n",
            "            Conv2d-1           [-1, 64, 32, 32]           1,728\n",
            "       BatchNorm2d-2           [-1, 64, 32, 32]             128\n",
            "            Conv2d-3           [-1, 64, 32, 32]          36,864\n",
            "       BatchNorm2d-4           [-1, 64, 32, 32]             128\n",
            "            Conv2d-5           [-1, 64, 32, 32]          36,864\n",
            "       BatchNorm2d-6           [-1, 64, 32, 32]             128\n",
            "        BasicBlock-7           [-1, 64, 32, 32]               0\n",
            "            Conv2d-8           [-1, 64, 32, 32]          36,864\n",
            "       BatchNorm2d-9           [-1, 64, 32, 32]             128\n",
            "           Conv2d-10           [-1, 64, 32, 32]          36,864\n",
            "      BatchNorm2d-11           [-1, 64, 32, 32]             128\n",
            "       BasicBlock-12           [-1, 64, 32, 32]               0\n",
            "           Conv2d-13          [-1, 128, 16, 16]          73,728\n",
            "      BatchNorm2d-14          [-1, 128, 16, 16]             256\n",
            "           Conv2d-15          [-1, 128, 16, 16]         147,456\n",
            "      BatchNorm2d-16          [-1, 128, 16, 16]             256\n",
            "           Conv2d-17          [-1, 128, 16, 16]           8,192\n",
            "      BatchNorm2d-18          [-1, 128, 16, 16]             256\n",
            "       BasicBlock-19          [-1, 128, 16, 16]               0\n",
            "           Conv2d-20            [-1, 256, 8, 8]         294,912\n",
            "      BatchNorm2d-21            [-1, 256, 8, 8]             512\n",
            "           Conv2d-22            [-1, 256, 8, 8]         589,824\n",
            "      BatchNorm2d-23            [-1, 256, 8, 8]             512\n",
            "           Conv2d-24            [-1, 256, 8, 8]          32,768\n",
            "      BatchNorm2d-25            [-1, 256, 8, 8]             512\n",
            "       BasicBlock-26            [-1, 256, 8, 8]               0\n",
            "           Conv2d-27            [-1, 512, 4, 4]       1,179,648\n",
            "      BatchNorm2d-28            [-1, 512, 4, 4]           1,024\n",
            "           Conv2d-29            [-1, 512, 4, 4]       2,359,296\n",
            "      BatchNorm2d-30            [-1, 512, 4, 4]           1,024\n",
            "           Conv2d-31            [-1, 512, 4, 4]         131,072\n",
            "      BatchNorm2d-32            [-1, 512, 4, 4]           1,024\n",
            "       BasicBlock-33            [-1, 512, 4, 4]               0\n",
            "           Linear-34                   [-1, 10]           5,130\n",
            "================================================================\n",
            "Total params: 4,977,226\n",
            "Trainable params: 4,977,226\n",
            "Non-trainable params: 0\n",
            "----------------------------------------------------------------\n",
            "Input size (MB): 0.01\n",
            "Forward/backward pass size (MB): 9.06\n",
            "Params size (MB): 18.99\n",
            "Estimated Total Size (MB): 28.06\n",
            "----------------------------------------------------------------\n"
          ]
        }
      ],
      "source": [
        "# Reducing number of residual blocks\n",
        "net1 = ResNet(BasicBlock, [2, 1, 1, 1], [64, 128, 256, 512], [1, 2, 2, 2])\n",
        "models.append(net1)\n",
        "net1 = net1.to(device)\n",
        "summary(net1, (3, 32, 32))"
      ]
    },
    {
      "cell_type": "code",
      "execution_count": 14,
      "id": "79efae3f-fda2-4308-a390-d0236903c6cc",
      "metadata": {
        "id": "79efae3f-fda2-4308-a390-d0236903c6cc",
        "colab": {
          "base_uri": "https://localhost:8080/"
        },
        "outputId": "2db2472b-f2ca-4373-f9c3-e2ed30fbbf5e"
      },
      "outputs": [
        {
          "output_type": "stream",
          "name": "stdout",
          "text": [
            "----------------------------------------------------------------\n",
            "        Layer (type)               Output Shape         Param #\n",
            "================================================================\n",
            "            Conv2d-1           [-1, 64, 32, 32]           1,728\n",
            "       BatchNorm2d-2           [-1, 64, 32, 32]             128\n",
            "            Conv2d-3           [-1, 64, 32, 32]          36,864\n",
            "       BatchNorm2d-4           [-1, 64, 32, 32]             128\n",
            "            Conv2d-5           [-1, 64, 32, 32]          36,864\n",
            "       BatchNorm2d-6           [-1, 64, 32, 32]             128\n",
            "        BasicBlock-7           [-1, 64, 32, 32]               0\n",
            "            Conv2d-8           [-1, 64, 32, 32]          36,864\n",
            "       BatchNorm2d-9           [-1, 64, 32, 32]             128\n",
            "           Conv2d-10           [-1, 64, 32, 32]          36,864\n",
            "      BatchNorm2d-11           [-1, 64, 32, 32]             128\n",
            "       BasicBlock-12           [-1, 64, 32, 32]               0\n",
            "           Conv2d-13           [-1, 64, 32, 32]          36,864\n",
            "      BatchNorm2d-14           [-1, 64, 32, 32]             128\n",
            "           Conv2d-15           [-1, 64, 32, 32]          36,864\n",
            "      BatchNorm2d-16           [-1, 64, 32, 32]             128\n",
            "       BasicBlock-17           [-1, 64, 32, 32]               0\n",
            "           Conv2d-18           [-1, 64, 32, 32]          36,864\n",
            "      BatchNorm2d-19           [-1, 64, 32, 32]             128\n",
            "           Conv2d-20           [-1, 64, 32, 32]          36,864\n",
            "      BatchNorm2d-21           [-1, 64, 32, 32]             128\n",
            "       BasicBlock-22           [-1, 64, 32, 32]               0\n",
            "           Conv2d-23          [-1, 128, 16, 16]          73,728\n",
            "      BatchNorm2d-24          [-1, 128, 16, 16]             256\n",
            "           Conv2d-25          [-1, 128, 16, 16]         147,456\n",
            "      BatchNorm2d-26          [-1, 128, 16, 16]             256\n",
            "           Conv2d-27          [-1, 128, 16, 16]           8,192\n",
            "      BatchNorm2d-28          [-1, 128, 16, 16]             256\n",
            "       BasicBlock-29          [-1, 128, 16, 16]               0\n",
            "           Conv2d-30          [-1, 128, 16, 16]         147,456\n",
            "      BatchNorm2d-31          [-1, 128, 16, 16]             256\n",
            "           Conv2d-32          [-1, 128, 16, 16]         147,456\n",
            "      BatchNorm2d-33          [-1, 128, 16, 16]             256\n",
            "       BasicBlock-34          [-1, 128, 16, 16]               0\n",
            "           Conv2d-35          [-1, 128, 16, 16]         147,456\n",
            "      BatchNorm2d-36          [-1, 128, 16, 16]             256\n",
            "           Conv2d-37          [-1, 128, 16, 16]         147,456\n",
            "      BatchNorm2d-38          [-1, 128, 16, 16]             256\n",
            "       BasicBlock-39          [-1, 128, 16, 16]               0\n",
            "           Conv2d-40          [-1, 128, 16, 16]         147,456\n",
            "      BatchNorm2d-41          [-1, 128, 16, 16]             256\n",
            "           Conv2d-42          [-1, 128, 16, 16]         147,456\n",
            "      BatchNorm2d-43          [-1, 128, 16, 16]             256\n",
            "       BasicBlock-44          [-1, 128, 16, 16]               0\n",
            "           Conv2d-45            [-1, 256, 8, 8]         294,912\n",
            "      BatchNorm2d-46            [-1, 256, 8, 8]             512\n",
            "           Conv2d-47            [-1, 256, 8, 8]         589,824\n",
            "      BatchNorm2d-48            [-1, 256, 8, 8]             512\n",
            "           Conv2d-49            [-1, 256, 8, 8]          32,768\n",
            "      BatchNorm2d-50            [-1, 256, 8, 8]             512\n",
            "       BasicBlock-51            [-1, 256, 8, 8]               0\n",
            "           Conv2d-52            [-1, 256, 8, 8]         589,824\n",
            "      BatchNorm2d-53            [-1, 256, 8, 8]             512\n",
            "           Conv2d-54            [-1, 256, 8, 8]         589,824\n",
            "      BatchNorm2d-55            [-1, 256, 8, 8]             512\n",
            "       BasicBlock-56            [-1, 256, 8, 8]               0\n",
            "           Conv2d-57            [-1, 256, 8, 8]         589,824\n",
            "      BatchNorm2d-58            [-1, 256, 8, 8]             512\n",
            "           Conv2d-59            [-1, 256, 8, 8]         589,824\n",
            "      BatchNorm2d-60            [-1, 256, 8, 8]             512\n",
            "       BasicBlock-61            [-1, 256, 8, 8]               0\n",
            "           Linear-62                   [-1, 10]          10,250\n",
            "================================================================\n",
            "Total params: 4,704,842\n",
            "Trainable params: 4,704,842\n",
            "Non-trainable params: 0\n",
            "----------------------------------------------------------------\n",
            "Input size (MB): 0.01\n",
            "Forward/backward pass size (MB): 18.63\n",
            "Params size (MB): 17.95\n",
            "Estimated Total Size (MB): 36.58\n",
            "----------------------------------------------------------------\n"
          ]
        }
      ],
      "source": [
        "# residual layer reduction and residual block modification \n",
        "net2 = ResNet(BasicBlock, [4, 4, 3], [64, 128, 256], [1, 2, 2], 1024)\n",
        "models.append(net2)\n",
        "net2 = net2.to(device)\n",
        "summary(net2, (3, 32, 32))"
      ]
    },
    {
      "cell_type": "code",
      "execution_count": 15,
      "id": "03ed53bc-0e95-4d53-9c39-9e8bbc41a4eb",
      "metadata": {
        "id": "03ed53bc-0e95-4d53-9c39-9e8bbc41a4eb",
        "colab": {
          "base_uri": "https://localhost:8080/"
        },
        "outputId": "729e987e-7457-40c1-a6d7-edb25caf4275"
      },
      "outputs": [
        {
          "output_type": "stream",
          "name": "stdout",
          "text": [
            "----------------------------------------------------------------\n",
            "        Layer (type)               Output Shape         Param #\n",
            "================================================================\n",
            "            Conv2d-1           [-1, 64, 32, 32]           1,728\n",
            "       BatchNorm2d-2           [-1, 64, 32, 32]             128\n",
            "            Conv2d-3          [-1, 128, 32, 32]          73,728\n",
            "       BatchNorm2d-4          [-1, 128, 32, 32]             256\n",
            "            Conv2d-5          [-1, 128, 32, 32]         147,456\n",
            "       BatchNorm2d-6          [-1, 128, 32, 32]             256\n",
            "            Conv2d-7          [-1, 128, 32, 32]           8,192\n",
            "       BatchNorm2d-8          [-1, 128, 32, 32]             256\n",
            "        BasicBlock-9          [-1, 128, 32, 32]               0\n",
            "           Conv2d-10          [-1, 256, 16, 16]         294,912\n",
            "      BatchNorm2d-11          [-1, 256, 16, 16]             512\n",
            "           Conv2d-12          [-1, 256, 16, 16]         589,824\n",
            "      BatchNorm2d-13          [-1, 256, 16, 16]             512\n",
            "           Conv2d-14          [-1, 256, 16, 16]          32,768\n",
            "      BatchNorm2d-15          [-1, 256, 16, 16]             512\n",
            "       BasicBlock-16          [-1, 256, 16, 16]               0\n",
            "           Conv2d-17            [-1, 512, 8, 8]       1,179,648\n",
            "      BatchNorm2d-18            [-1, 512, 8, 8]           1,024\n",
            "           Conv2d-19            [-1, 512, 8, 8]       2,359,296\n",
            "      BatchNorm2d-20            [-1, 512, 8, 8]           1,024\n",
            "           Conv2d-21            [-1, 512, 8, 8]         131,072\n",
            "      BatchNorm2d-22            [-1, 512, 8, 8]           1,024\n",
            "       BasicBlock-23            [-1, 512, 8, 8]               0\n",
            "           Linear-24                   [-1, 10]          20,490\n",
            "================================================================\n",
            "Total params: 4,844,618\n",
            "Trainable params: 4,844,618\n",
            "Non-trainable params: 0\n",
            "----------------------------------------------------------------\n",
            "Input size (MB): 0.01\n",
            "Forward/backward pass size (MB): 13.25\n",
            "Params size (MB): 18.48\n",
            "Estimated Total Size (MB): 31.74\n",
            "----------------------------------------------------------------\n"
          ]
        }
      ],
      "source": [
        "# reducing residual layer, reducing residual block and increasing number of chan modification\n",
        "net3 = ResNet(BasicBlock, [1, 1, 1], [128, 256, 512], [1, 2, 2], 2048)\n",
        "models.append(net3)\n",
        "net3 = net3.to(device)\n",
        "summary(net3, (3, 32, 32))"
      ]
    },
    {
      "cell_type": "code",
      "execution_count": 16,
      "id": "a8b4c7ac-8c00-426b-aedc-72a9e757d44e",
      "metadata": {
        "id": "a8b4c7ac-8c00-426b-aedc-72a9e757d44e",
        "colab": {
          "base_uri": "https://localhost:8080/"
        },
        "outputId": "6c9a19b6-3029-4280-ab58-65462cd64059"
      },
      "outputs": [
        {
          "output_type": "stream",
          "name": "stdout",
          "text": [
            "----------------------------------------------------------------\n",
            "        Layer (type)               Output Shape         Param #\n",
            "================================================================\n",
            "            Conv2d-1           [-1, 64, 32, 32]           1,728\n",
            "       BatchNorm2d-2           [-1, 64, 32, 32]             128\n",
            "            Conv2d-3          [-1, 128, 32, 32]          73,728\n",
            "       BatchNorm2d-4          [-1, 128, 32, 32]             256\n",
            "            Conv2d-5          [-1, 128, 32, 32]         147,456\n",
            "       BatchNorm2d-6          [-1, 128, 32, 32]             256\n",
            "            Conv2d-7          [-1, 128, 32, 32]           8,192\n",
            "       BatchNorm2d-8          [-1, 128, 32, 32]             256\n",
            "        BasicBlock-9          [-1, 128, 32, 32]               0\n",
            "           Conv2d-10          [-1, 256, 16, 16]         294,912\n",
            "      BatchNorm2d-11          [-1, 256, 16, 16]             512\n",
            "           Conv2d-12          [-1, 256, 16, 16]         589,824\n",
            "      BatchNorm2d-13          [-1, 256, 16, 16]             512\n",
            "           Conv2d-14          [-1, 256, 16, 16]          32,768\n",
            "      BatchNorm2d-15          [-1, 256, 16, 16]             512\n",
            "       BasicBlock-16          [-1, 256, 16, 16]               0\n",
            "           Conv2d-17            [-1, 512, 8, 8]       1,179,648\n",
            "      BatchNorm2d-18            [-1, 512, 8, 8]           1,024\n",
            "           Conv2d-19            [-1, 512, 8, 8]       2,359,296\n",
            "      BatchNorm2d-20            [-1, 512, 8, 8]           1,024\n",
            "           Conv2d-21            [-1, 512, 8, 8]         131,072\n",
            "      BatchNorm2d-22            [-1, 512, 8, 8]           1,024\n",
            "       BasicBlock-23            [-1, 512, 8, 8]               0\n",
            "           Linear-24                   [-1, 10]          81,930\n",
            "================================================================\n",
            "Total params: 4,906,058\n",
            "Trainable params: 4,906,058\n",
            "Non-trainable params: 0\n",
            "----------------------------------------------------------------\n",
            "Input size (MB): 0.01\n",
            "Forward/backward pass size (MB): 13.25\n",
            "Params size (MB): 18.72\n",
            "Estimated Total Size (MB): 31.98\n",
            "----------------------------------------------------------------\n"
          ]
        }
      ],
      "source": [
        "# reducing residual layer, reducing residual block, increasing number of channels, modifying average pool kernel size \n",
        "net4 = ResNet(BasicBlock, [1, 1, 1], [128, 256, 512], [1, 2, 2], 8192, avg_pool_size = 2)\n",
        "models.append(net4)\n",
        "net4 = net4.to(device)\n",
        "summary(net4, (3, 32, 32))"
      ]
    },
    {
      "cell_type": "code",
      "execution_count": 17,
      "id": "589fe5f8-e1e6-4c4e-9466-6431bc0bf165",
      "metadata": {
        "id": "589fe5f8-e1e6-4c4e-9466-6431bc0bf165",
        "colab": {
          "base_uri": "https://localhost:8080/"
        },
        "outputId": "948a70f3-46ec-453e-b126-815d4cc35f43"
      },
      "outputs": [
        {
          "output_type": "stream",
          "name": "stdout",
          "text": [
            "----------------------------------------------------------------\n",
            "        Layer (type)               Output Shape         Param #\n",
            "================================================================\n",
            "            Conv2d-1          [-1, 128, 32, 32]           3,456\n",
            "       BatchNorm2d-2          [-1, 128, 32, 32]             256\n",
            "            Conv2d-3          [-1, 128, 32, 32]         147,456\n",
            "       BatchNorm2d-4          [-1, 128, 32, 32]             256\n",
            "            Conv2d-5          [-1, 128, 32, 32]         147,456\n",
            "       BatchNorm2d-6          [-1, 128, 32, 32]             256\n",
            "        BasicBlock-7          [-1, 128, 32, 32]               0\n",
            "            Conv2d-8          [-1, 256, 16, 16]         294,912\n",
            "       BatchNorm2d-9          [-1, 256, 16, 16]             512\n",
            "           Conv2d-10          [-1, 256, 16, 16]         589,824\n",
            "      BatchNorm2d-11          [-1, 256, 16, 16]             512\n",
            "           Conv2d-12          [-1, 256, 16, 16]          32,768\n",
            "      BatchNorm2d-13          [-1, 256, 16, 16]             512\n",
            "       BasicBlock-14          [-1, 256, 16, 16]               0\n",
            "           Conv2d-15            [-1, 512, 8, 8]       1,179,648\n",
            "      BatchNorm2d-16            [-1, 512, 8, 8]           1,024\n",
            "           Conv2d-17            [-1, 512, 8, 8]       2,359,296\n",
            "      BatchNorm2d-18            [-1, 512, 8, 8]           1,024\n",
            "           Conv2d-19            [-1, 512, 8, 8]         131,072\n",
            "      BatchNorm2d-20            [-1, 512, 8, 8]           1,024\n",
            "       BasicBlock-21            [-1, 512, 8, 8]               0\n",
            "           Linear-22                   [-1, 10]          20,490\n",
            "================================================================\n",
            "Total params: 4,911,754\n",
            "Trainable params: 4,911,754\n",
            "Non-trainable params: 0\n",
            "----------------------------------------------------------------\n",
            "Input size (MB): 0.01\n",
            "Forward/backward pass size (MB): 12.25\n",
            "Params size (MB): 18.74\n",
            "Estimated Total Size (MB): 31.00\n",
            "----------------------------------------------------------------\n"
          ]
        }
      ],
      "source": [
        "# reducing residual layer, reducing residual block, in planes = 128 and increasing number of chan modification\n",
        "net5 = ResNet(BasicBlock, [1, 1, 1], [128, 256, 512], [1, 2, 2], 2048, in_planes=128)\n",
        "models.append(net5)\n",
        "net5 = net5.to(device)\n",
        "summary(net5, (3, 32, 32))"
      ]
    },
    {
      "cell_type": "code",
      "execution_count": 18,
      "id": "d2f32e44-163e-401b-945e-5633a77a6c08",
      "metadata": {
        "id": "d2f32e44-163e-401b-945e-5633a77a6c08",
        "colab": {
          "base_uri": "https://localhost:8080/"
        },
        "outputId": "9f50bf6d-8ef2-44e5-8f40-9200b0da91ee"
      },
      "outputs": [
        {
          "output_type": "stream",
          "name": "stdout",
          "text": [
            "----------------------------------------------------------------\n",
            "        Layer (type)               Output Shape         Param #\n",
            "================================================================\n",
            "            Conv2d-1          [-1, 128, 32, 32]           3,456\n",
            "       BatchNorm2d-2          [-1, 128, 32, 32]             256\n",
            "            Conv2d-3          [-1, 128, 32, 32]         147,456\n",
            "       BatchNorm2d-4          [-1, 128, 32, 32]             256\n",
            "            Conv2d-5          [-1, 128, 32, 32]         147,456\n",
            "       BatchNorm2d-6          [-1, 128, 32, 32]             256\n",
            "        BasicBlock-7          [-1, 128, 32, 32]               0\n",
            "            Conv2d-8          [-1, 256, 16, 16]         294,912\n",
            "       BatchNorm2d-9          [-1, 256, 16, 16]             512\n",
            "           Conv2d-10          [-1, 256, 16, 16]         589,824\n",
            "      BatchNorm2d-11          [-1, 256, 16, 16]             512\n",
            "           Conv2d-12          [-1, 256, 16, 16]          32,768\n",
            "      BatchNorm2d-13          [-1, 256, 16, 16]             512\n",
            "       BasicBlock-14          [-1, 256, 16, 16]               0\n",
            "           Conv2d-15            [-1, 512, 8, 8]       1,179,648\n",
            "      BatchNorm2d-16            [-1, 512, 8, 8]           1,024\n",
            "           Conv2d-17            [-1, 512, 8, 8]       2,359,296\n",
            "      BatchNorm2d-18            [-1, 512, 8, 8]           1,024\n",
            "           Conv2d-19            [-1, 512, 8, 8]         131,072\n",
            "      BatchNorm2d-20            [-1, 512, 8, 8]           1,024\n",
            "       BasicBlock-21            [-1, 512, 8, 8]               0\n",
            "           Linear-22                   [-1, 10]          81,930\n",
            "================================================================\n",
            "Total params: 4,973,194\n",
            "Trainable params: 4,973,194\n",
            "Non-trainable params: 0\n",
            "----------------------------------------------------------------\n",
            "Input size (MB): 0.01\n",
            "Forward/backward pass size (MB): 12.25\n",
            "Params size (MB): 18.97\n",
            "Estimated Total Size (MB): 31.23\n",
            "----------------------------------------------------------------\n"
          ]
        }
      ],
      "source": [
        "# reducing residual layer, reducing residual block, increasing number of channels, modifying average pool kernel size, in_planes = 128 \n",
        "net6 = ResNet(BasicBlock, [1, 1, 1], [128, 256, 512], [1, 2, 2], 8192, in_planes=128, avg_pool_size = 2)\n",
        "models.append(net6)\n",
        "net6 = net6.to(device)\n",
        "summary(net6, (3, 32, 32))"
      ]
    },
    {
      "cell_type": "markdown",
      "id": "0b24dd91-0a6c-4a3b-983b-097861dece53",
      "metadata": {
        "tags": [],
        "id": "0b24dd91-0a6c-4a3b-983b-097861dece53"
      },
      "source": [
        "### Training and Testing them to compare performances"
      ]
    },
    {
      "cell_type": "code",
      "execution_count": 20,
      "id": "3ac3d9ba-bab9-4ed2-891b-32b2b4bae4fb",
      "metadata": {
        "id": "3ac3d9ba-bab9-4ed2-891b-32b2b4bae4fb"
      },
      "outputs": [],
      "source": [
        "import os\n",
        "import time"
      ]
    },
    {
      "cell_type": "markdown",
      "id": "0940a95a-6239-4a5c-9172-3a197e0c4ff6",
      "metadata": {
        "id": "0940a95a-6239-4a5c-9172-3a197e0c4ff6"
      },
      "source": [
        "Change the model below to train each network."
      ]
    },
    {
      "cell_type": "code",
      "source": [
        "# Specify the model configuration to use\n",
        "model_num = 5"
      ],
      "metadata": {
        "id": "4LUWZjxEmYoB"
      },
      "id": "4LUWZjxEmYoB",
      "execution_count": 21,
      "outputs": []
    },
    {
      "cell_type": "code",
      "execution_count": 22,
      "id": "01d2b2bd-1bfc-46b3-8897-952d7c8b3af9",
      "metadata": {
        "id": "01d2b2bd-1bfc-46b3-8897-952d7c8b3af9"
      },
      "outputs": [],
      "source": [
        "model = models[model_num-1].to(device)\n",
        "if device == 'cuda':\n",
        "    model = torch.nn.DataParallel(model)\n",
        "    cudnn.benchmark = True"
      ]
    },
    {
      "cell_type": "code",
      "execution_count": 23,
      "id": "9b85bad8-a9fd-4877-a452-ce830d7b3efd",
      "metadata": {
        "id": "9b85bad8-a9fd-4877-a452-ce830d7b3efd"
      },
      "outputs": [],
      "source": [
        "criterion = nn.CrossEntropyLoss()\n",
        "optimizer = optim.Adam(model.parameters())\n",
        "scheduler = torch.optim.lr_scheduler.CosineAnnealingLR(optimizer, T_max=200)"
      ]
    },
    {
      "cell_type": "code",
      "execution_count": 24,
      "id": "0938e49a-307c-4bc9-89aa-52c4faf9e4ad",
      "metadata": {
        "id": "0938e49a-307c-4bc9-89aa-52c4faf9e4ad"
      },
      "outputs": [],
      "source": [
        "def epoch_time(start_time, end_time):\n",
        "    elapsed_time = end_time - start_time\n",
        "    elapsed_mins = int(elapsed_time / 60)\n",
        "    elapsed_secs = int(elapsed_time - (elapsed_mins * 60))\n",
        "    return elapsed_mins, elapsed_secs\n"
      ]
    },
    {
      "cell_type": "code",
      "source": [
        "def calculate_accuracy(y_pred, y):\n",
        "    top_pred = y_pred.argmax(1, keepdim = True)\n",
        "    correct = top_pred.eq(y.view_as(top_pred)).sum()\n",
        "    acc = correct.float() / y.shape[0]\n",
        "    return acc"
      ],
      "metadata": {
        "id": "9JpxZZTgVSCX"
      },
      "id": "9JpxZZTgVSCX",
      "execution_count": 25,
      "outputs": []
    },
    {
      "cell_type": "markdown",
      "id": "1f8a4b1b-1aa4-4976-9259-c15c11c126db",
      "metadata": {
        "id": "1f8a4b1b-1aa4-4976-9259-c15c11c126db"
      },
      "source": [
        "Change the checkpoint name below to save different model checkpoints. We are saving the model state, validation accuracy for each epoch in checkpoints. We are also printing validation loss and accuracy for each epoch."
      ]
    },
    {
      "cell_type": "code",
      "execution_count": 26,
      "id": "6fbd62d2-4e99-4a28-b613-8fb6366faf00",
      "metadata": {
        "id": "6fbd62d2-4e99-4a28-b613-8fb6366faf00"
      },
      "outputs": [],
      "source": [
        "def train(net, iterator, optimizer, criterion, device):\n",
        "    net.train()\n",
        "    train_loss = 0\n",
        "    correct = 0\n",
        "    total = 0\n",
        "    for batch_idx, (inputs, targets) in enumerate(iterator):\n",
        "        inputs, targets = inputs.to(device), targets.to(device)\n",
        "        optimizer.zero_grad()\n",
        "        outputs = net(inputs)\n",
        "        loss = criterion(outputs, targets)\n",
        "        loss.backward()\n",
        "        optimizer.step()\n",
        "\n",
        "        train_loss += loss.item()\n",
        "        _, predicted = outputs.max(1)\n",
        "        correct += predicted.eq(targets).sum().item()\n",
        "        total += targets.size(0)\n",
        "\n",
        "    return train_loss / (batch_idx+1), 100.*correct / total"
      ]
    },
    {
      "cell_type": "code",
      "source": [
        "def evaluate(net, iterator, criterion, device):\n",
        "    net.eval()\n",
        "    test_loss = 0\n",
        "    correct = 0\n",
        "    total = 0\n",
        "    with torch.no_grad():\n",
        "        for batch_idx, (inputs, targets) in enumerate(iterator):\n",
        "            inputs, targets = inputs.to(device), targets.to(device)\n",
        "            outputs = net(inputs)\n",
        "            loss = criterion(outputs, targets)\n",
        "\n",
        "            test_loss += loss.item()\n",
        "            _, predicted = outputs.max(1)\n",
        "            correct += predicted.eq(targets).sum().item()\n",
        "            total += targets.size(0)\n",
        "\n",
        "\n",
        "    return test_loss / (batch_idx+1), 100.*correct / total"
      ],
      "metadata": {
        "id": "mLDawvAxU9wP"
      },
      "id": "mLDawvAxU9wP",
      "execution_count": 27,
      "outputs": []
    },
    {
      "cell_type": "code",
      "source": [
        "import time\n",
        "\n",
        "def current_seconds_time():\n",
        "    return round(time.time())"
      ],
      "metadata": {
        "id": "ES3y9pwnVYvB"
      },
      "id": "ES3y9pwnVYvB",
      "execution_count": 28,
      "outputs": []
    },
    {
      "cell_type": "code",
      "source": [
        "EPOCHS = 40\n",
        "\n",
        "total_start_time = current_seconds_time()\n",
        "best_valid_acc = 0\n",
        "for epoch in range(EPOCHS):\n",
        "  start_time = current_seconds_time()\n",
        "  train_loss, train_accuracy = train(model, train_iterator, optimizer, criterion, device)\n",
        "  valid_loss, valid_accuracy = evaluate(model, valid_iterator, criterion, device)\n",
        "  if valid_accuracy > best_valid_acc:\n",
        "    save_location = f\"{proj_root}/model_\"+str(model_num)+\".pt\"\n",
        "    torch.save(model, save_location)\n",
        "    best_valid_acc = valid_accuracy\n",
        "  end_time = current_seconds_time()\n",
        "  elapsed_mins, elapsed_secs = epoch_time(start_time, end_time)\n",
        "  print('Epoch %s, Train loss %s, Valid loss %s, Train accuracy %s, Valid accuracy %s Elapsed mins %s Elapsed secs %s'%(epoch, train_loss, valid_loss, train_accuracy, valid_accuracy, elapsed_mins, elapsed_secs))\n",
        "total_end_time = current_seconds_time()\n",
        "full_mins, full_secs = epoch_time(total_start_time, total_end_time)"
      ],
      "metadata": {
        "id": "mbyINDh8Vf1s",
        "colab": {
          "base_uri": "https://localhost:8080/"
        },
        "outputId": "9b51b9e6-810e-40ca-c242-c0df3ef2c2a3"
      },
      "id": "mbyINDh8Vf1s",
      "execution_count": 29,
      "outputs": [
        {
          "output_type": "stream",
          "name": "stdout",
          "text": [
            "Epoch 0, Train loss 1.431600372730331, Valid loss 1.1774259388446808, Train accuracy 47.864444444444445, Valid accuracy 59.7 Elapsed mins 0 Elapsed secs 44\n",
            "Epoch 1, Train loss 0.9666880182921886, Valid loss 0.9421021950244903, Train accuracy 65.69111111111111, Valid accuracy 67.42 Elapsed mins 0 Elapsed secs 44\n",
            "Epoch 2, Train loss 0.7810404341329228, Valid loss 0.8012874209880829, Train accuracy 72.81111111111112, Valid accuracy 72.54 Elapsed mins 0 Elapsed secs 43\n",
            "Epoch 3, Train loss 0.6782827538184144, Valid loss 0.6648493999242783, Train accuracy 76.42, Valid accuracy 77.92 Elapsed mins 0 Elapsed secs 43\n",
            "Epoch 4, Train loss 0.6013919044794007, Valid loss 0.6710485768318176, Train accuracy 79.4888888888889, Valid accuracy 77.06 Elapsed mins 0 Elapsed secs 43\n",
            "Epoch 5, Train loss 0.5370337317105044, Valid loss 0.5473409169912338, Train accuracy 81.49777777777778, Valid accuracy 81.92 Elapsed mins 0 Elapsed secs 43\n",
            "Epoch 6, Train loss 0.48585113747553393, Valid loss 0.5390801674127579, Train accuracy 83.19333333333333, Valid accuracy 82.72 Elapsed mins 0 Elapsed secs 43\n",
            "Epoch 7, Train loss 0.44567368894984777, Valid loss 0.4592414802312851, Train accuracy 84.67555555555556, Valid accuracy 84.26 Elapsed mins 0 Elapsed secs 43\n",
            "Epoch 8, Train loss 0.40441269893199205, Valid loss 0.54665731549263, Train accuracy 86.04888888888888, Valid accuracy 82.9 Elapsed mins 0 Elapsed secs 43\n",
            "Epoch 9, Train loss 0.37204294313083996, Valid loss 0.4725491404533386, Train accuracy 87.26222222222222, Valid accuracy 83.98 Elapsed mins 0 Elapsed secs 43\n",
            "Epoch 10, Train loss 0.3451675864952532, Valid loss 0.4586554512381554, Train accuracy 88.04, Valid accuracy 84.62 Elapsed mins 0 Elapsed secs 42\n",
            "Epoch 11, Train loss 0.3231771456247026, Valid loss 0.44214327573776246, Train accuracy 88.77777777777777, Valid accuracy 85.1 Elapsed mins 0 Elapsed secs 43\n",
            "Epoch 12, Train loss 0.29982751578261907, Valid loss 0.4949716758728027, Train accuracy 89.50444444444445, Valid accuracy 84.74 Elapsed mins 0 Elapsed secs 43\n",
            "Epoch 13, Train loss 0.28182916559109633, Valid loss 0.39337096095085144, Train accuracy 90.26222222222222, Valid accuracy 87.1 Elapsed mins 0 Elapsed secs 42\n",
            "Epoch 14, Train loss 0.25557961160401726, Valid loss 0.3577688497304916, Train accuracy 91.16666666666667, Valid accuracy 89.22 Elapsed mins 0 Elapsed secs 44\n",
            "Epoch 15, Train loss 0.24005279719660227, Valid loss 0.38956903517246244, Train accuracy 91.63555555555556, Valid accuracy 88.04 Elapsed mins 0 Elapsed secs 42\n",
            "Epoch 16, Train loss 0.22497870307415724, Valid loss 0.4514805632829666, Train accuracy 92.1288888888889, Valid accuracy 87.3 Elapsed mins 0 Elapsed secs 43\n",
            "Epoch 17, Train loss 0.21107859393073755, Valid loss 0.37656811326742173, Train accuracy 92.55777777777777, Valid accuracy 88.72 Elapsed mins 0 Elapsed secs 42\n",
            "Epoch 18, Train loss 0.1869125354146077, Valid loss 0.33706350982189176, Train accuracy 93.59555555555555, Valid accuracy 89.44 Elapsed mins 0 Elapsed secs 43\n",
            "Epoch 19, Train loss 0.1811472631313584, Valid loss 0.39523792698979376, Train accuracy 93.62222222222222, Valid accuracy 88.08 Elapsed mins 0 Elapsed secs 43\n",
            "Epoch 20, Train loss 0.16403362938118252, Valid loss 0.36960268646478656, Train accuracy 94.13777777777777, Valid accuracy 89.88 Elapsed mins 0 Elapsed secs 43\n",
            "Epoch 21, Train loss 0.15502283957109533, Valid loss 0.366172744333744, Train accuracy 94.64888888888889, Valid accuracy 89.42 Elapsed mins 0 Elapsed secs 42\n",
            "Epoch 22, Train loss 0.14982121946840463, Valid loss 0.33170355170965193, Train accuracy 94.68444444444444, Valid accuracy 90.08 Elapsed mins 0 Elapsed secs 43\n",
            "Epoch 23, Train loss 0.13270838957660916, Valid loss 0.4038232770562172, Train accuracy 95.44444444444444, Valid accuracy 89.26 Elapsed mins 0 Elapsed secs 42\n",
            "Epoch 24, Train loss 0.12557578481606801, Valid loss 0.38292336732149124, Train accuracy 95.56, Valid accuracy 89.4 Elapsed mins 0 Elapsed secs 43\n",
            "Epoch 25, Train loss 0.11596807201435282, Valid loss 0.4340645092725754, Train accuracy 95.88, Valid accuracy 88.98 Elapsed mins 0 Elapsed secs 43\n",
            "Epoch 26, Train loss 0.10918789034688169, Valid loss 0.3989963310956955, Train accuracy 96.14888888888889, Valid accuracy 89.66 Elapsed mins 0 Elapsed secs 43\n",
            "Epoch 27, Train loss 0.10396246511531486, Valid loss 0.41931227803230287, Train accuracy 96.41111111111111, Valid accuracy 89.62 Elapsed mins 0 Elapsed secs 43\n",
            "Epoch 28, Train loss 0.09600017030342398, Valid loss 0.34953834876418116, Train accuracy 96.67777777777778, Valid accuracy 90.8 Elapsed mins 0 Elapsed secs 42\n",
            "Epoch 29, Train loss 0.08944734808226878, Valid loss 0.38280491426587104, Train accuracy 96.92222222222222, Valid accuracy 89.82 Elapsed mins 0 Elapsed secs 43\n",
            "Epoch 30, Train loss 0.08571218192810193, Valid loss 0.38183044075965883, Train accuracy 96.93777777777778, Valid accuracy 90.06 Elapsed mins 0 Elapsed secs 42\n",
            "Epoch 31, Train loss 0.07617571075256406, Valid loss 0.44458753913640975, Train accuracy 97.19555555555556, Valid accuracy 89.48 Elapsed mins 0 Elapsed secs 43\n",
            "Epoch 32, Train loss 0.07805114416987635, Valid loss 0.3710051530599594, Train accuracy 97.30222222222223, Valid accuracy 90.4 Elapsed mins 0 Elapsed secs 42\n",
            "Epoch 33, Train loss 0.07180634939471599, Valid loss 0.40870750591158866, Train accuracy 97.48222222222222, Valid accuracy 90.36 Elapsed mins 0 Elapsed secs 42\n",
            "Epoch 34, Train loss 0.07117791587899608, Valid loss 0.4016529622673988, Train accuracy 97.44666666666667, Valid accuracy 90.18 Elapsed mins 0 Elapsed secs 43\n",
            "Epoch 35, Train loss 0.06673150675752285, Valid loss 0.3831699135899544, Train accuracy 97.63777777777777, Valid accuracy 91.24 Elapsed mins 0 Elapsed secs 42\n",
            "Epoch 36, Train loss 0.0648262531956954, Valid loss 0.4028554373979569, Train accuracy 97.70666666666666, Valid accuracy 90.64 Elapsed mins 0 Elapsed secs 43\n",
            "Epoch 37, Train loss 0.06248783792993477, Valid loss 0.511463214457035, Train accuracy 97.76222222222222, Valid accuracy 88.94 Elapsed mins 0 Elapsed secs 43\n",
            "Epoch 38, Train loss 0.06113957616087811, Valid loss 0.38489077121019366, Train accuracy 97.89555555555556, Valid accuracy 91.48 Elapsed mins 0 Elapsed secs 42\n",
            "Epoch 39, Train loss 0.05158891951644116, Valid loss 0.37664541572332383, Train accuracy 98.22, Valid accuracy 91.26 Elapsed mins 0 Elapsed secs 43\n"
          ]
        }
      ]
    },
    {
      "cell_type": "code",
      "source": [
        "print(f\"Total time elapsed: {full_mins}m {full_secs}s\")\n",
        "print(f\"Best valid accuracy: {best_valid_acc}%\")"
      ],
      "metadata": {
        "id": "ce3dWhNexno-",
        "colab": {
          "base_uri": "https://localhost:8080/"
        },
        "outputId": "08dac6e2-f4b9-4655-95d1-3ede1a66dd83"
      },
      "id": "ce3dWhNexno-",
      "execution_count": 30,
      "outputs": [
        {
          "output_type": "stream",
          "name": "stdout",
          "text": [
            "Total time elapsed: 28m 32s\n",
            "Best valid accuracy: 91.48%\n"
          ]
        }
      ]
    },
    {
      "cell_type": "markdown",
      "id": "e88b2786-3f1d-4bf6-aabe-1cde0d1cd13e",
      "metadata": {
        "id": "e88b2786-3f1d-4bf6-aabe-1cde0d1cd13e"
      },
      "source": [
        "## Visualizing Performance of different models"
      ]
    },
    {
      "cell_type": "code",
      "execution_count": 32,
      "id": "5f42bce3-7b2b-4b13-a21b-250f199515a1",
      "metadata": {
        "id": "5f42bce3-7b2b-4b13-a21b-250f199515a1",
        "colab": {
          "base_uri": "https://localhost:8080/"
        },
        "outputId": "ba421931-c590-4c39-f7aa-199d843dd70e"
      },
      "outputs": [
        {
          "output_type": "stream",
          "name": "stdout",
          "text": [
            "0.3819424670934677 90.24\n",
            "0.4143017455935478 91.07\n",
            "0.39712472513318064 90.27\n",
            "0.3775533191114664 90.61\n",
            "0.4079685710370541 90.55\n"
          ]
        }
      ],
      "source": [
        "for i, _ in enumerate(models[:model_num]):\n",
        "  save_location =  f\"{proj_root}/model_\"+str(i+1)+\".pt\"\n",
        "  test_model = torch.load(save_location)\n",
        "  test_loss, test_acc = evaluate(test_model, test_iterator, criterion, device)\n",
        "  print(test_loss, test_acc)\n"
      ]
    },
    {
      "cell_type": "markdown",
      "id": "bd23425d-cce8-4d35-8b36-4b1c9f234ae4",
      "metadata": {
        "id": "bd23425d-cce8-4d35-8b36-4b1c9f234ae4"
      },
      "source": [
        "## References"
      ]
    },
    {
      "cell_type": "markdown",
      "id": "4d98e019-7774-4b5a-9ddb-d5dbc6213a38",
      "metadata": {
        "id": "4d98e019-7774-4b5a-9ddb-d5dbc6213a38"
      },
      "source": [
        "1. https://pytorch.org/tutorials/beginner/blitz/cifar10_tutorial.html\n",
        "2. https://github.com/kuangliu/pytorch-cifar\n",
        "3. https://gist.github.com/kevinzakka/d33bf8d6c7f06a9d8c76d97a7879f5cb"
      ]
    }
  ],
  "metadata": {
    "kernelspec": {
      "display_name": "Python 3",
      "name": "python3"
    },
    "language_info": {
      "name": "python"
    },
    "colab": {
      "provenance": []
    },
    "accelerator": "GPU",
    "gpuClass": "standard"
  },
  "nbformat": 4,
  "nbformat_minor": 5
}